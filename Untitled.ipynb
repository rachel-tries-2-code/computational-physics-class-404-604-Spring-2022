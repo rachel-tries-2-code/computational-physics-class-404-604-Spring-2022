{
 "cells": [
  {
   "cell_type": "code",
   "execution_count": 22,
   "id": "5c8638a8",
   "metadata": {},
   "outputs": [],
   "source": [
    "import numpy as np\n",
    "import matplotlib.pyplot as plt\n",
    "\n",
    "x = 10\n",
    "dx = 0.01\n",
    "\n",
    "def derifw(y,x,dx):  #forward difference\n",
    "    return (y(x+dx)-y(x))/dx\n",
    "\n",
    "#forward\n",
    "def derifw(y,x,dx):  #forward difference\n",
    "    return (y(x+dx)-y(x))/dx\n",
    "\n",
    "\n",
    "# central \n",
    "def dericd(y,x,dx): # central difference\n",
    "    return (y(x+dx/2)-y(x-dx/2))/dx\n",
    "\n",
    "# data \n",
    "\n",
    "x= 10\n",
    "dxarr=[]\n",
    "yarr_dericd=[]\n",
    "yarr_derifw=[]\n",
    "\n",
    "for dx in 10**np.arange(-16, 0.1,0.1): #input range\n",
    "    y=dericd(np.log,x,dx) # actual funct\n",
    "    dxarr.append(dx) # adds to dx array\n",
    "    yarr_dericd.append(y) # adds to dy array\n",
    "    y=derifw(np.log,x,dx) # actual funct\n",
    "    yarr_derifw.append(y)\n",
    "    \n"
   ]
  },
  {
   "cell_type": "code",
   "execution_count": null,
   "id": "f74d38e7",
   "metadata": {},
   "outputs": [],
   "source": []
  },
  {
   "cell_type": "code",
   "execution_count": null,
   "id": "52e2f5a2",
   "metadata": {},
   "outputs": [],
   "source": []
  }
 ],
 "metadata": {
  "kernelspec": {
   "display_name": "Python 3",
   "language": "python",
   "name": "python3"
  },
  "language_info": {
   "codemirror_mode": {
    "name": "ipython",
    "version": 3
   },
   "file_extension": ".py",
   "mimetype": "text/x-python",
   "name": "python",
   "nbconvert_exporter": "python",
   "pygments_lexer": "ipython3",
   "version": "3.9.5"
  }
 },
 "nbformat": 4,
 "nbformat_minor": 5
}
