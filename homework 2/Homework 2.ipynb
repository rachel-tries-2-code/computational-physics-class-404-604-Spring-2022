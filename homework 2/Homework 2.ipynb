{
 "cells": [
  {
   "cell_type": "markdown",
   "id": "6a0af15f",
   "metadata": {},
   "source": [
    "# Homework\n",
    "\n",
    "1) Calculate and plot the ratio F(n)/F(n-1) with respect to n using memorization method.\n",
    "\n",
    "2) \n",
    "\n",
    "    a) Use the Recursion method, Tabulation method,  and matrix method to calculate the time spent for different n (e.g. 1, 10, 100, 1000, 10000, … uniform in the log space). \n",
    "\n",
    "    b) For each method, output the time and n into a file\n",
    "       \n",
    "    c) Read from the file and plot log(time) (y-axis) vs. log(n) (x-axis) for different methods. \n",
    "       \n",
    "    d) Discuss the complexity of each method."
   ]
  },
  {
   "cell_type": "code",
   "execution_count": 73,
   "id": "1e837b27",
   "metadata": {},
   "outputs": [
    {
     "name": "stderr",
     "output_type": "stream",
     "text": [
      "<ipython-input-73-e159875cc593>:35: RuntimeWarning: divide by zero encountered in long_scalars\n",
      "  return fib_num/fib_denom\n"
     ]
    },
    {
     "data": {
      "image/png": "[encoded data removed]",
      "text/plain": [
       "<Figure size 432x288 with 1 Axes>"
      ]
     },
     "metadata": {
      "needs_background": "light"
     },
     "output_type": "display_data"
    }
   ],
   "source": [
    "# memoization method stores the results of functions \n",
    "# if function repeats less time is used solving it due to storage of function \n",
    "\n",
    "import time # allows for time calculation and label of actual time\n",
    "import numpy as np # numpy \n",
    "import pylab as p  # import Matplotlib label it as p\n",
    "import matplotlib.pyplot as plt   # Load Matplotlib\n",
    "\n",
    "\n",
    "# first create memoization \n",
    "# see lec3-pre notes !!!!\n",
    "\n",
    "\n",
    "def fib_memo(n, table): # 'n' is input num and 'table' is storage \n",
    "    if n == 0 or n == 1:  # initial values for fibonacci sequence \n",
    "        table[n]= n      # this is telling comp to store 'n'in position 'n' within storage\n",
    "    if table[n] is None:  # 'None' is specific. This is saying if 'n' not in table, store it\n",
    "        table[n] = fib_memo(n-1,table) + fib_memo(n-2,table) # this calculates f[n]      \n",
    "    return table[n]\n",
    "\n",
    "# test function up to this point\n",
    "# n= 10 \n",
    "# table = [None]*(n+1)   # allows for correct dimensions \n",
    "# start_time = time.time()\n",
    "# print('for n =', n, '; f(n)= ',fib(n, table)/fib(n-1,table),\" and takes %s seconds \" % (time.time() - start_time))\n",
    "# correct output \n",
    "\n",
    "# next we are creating a function to find the ratio of f(n)/f(n-1)\n",
    "\n",
    "def fib_ratio(n): # we are piggybacking off of the 'fib_memo' doing the calculations\n",
    "    table = [None]*(n+1)  # assigning TABLE in definition keeps ruining plot, so keep definition just 'n'!!!!!\n",
    "    table[0]= 0   # sets arg range\n",
    "    fib_num = fib_memo(n,table) # assigning 'fib_memo' within 'fib_ratio' function\n",
    "    fib_denom = table[n-1] # in memo table[n] = n so table[n-1] = n-1 \n",
    "    return fib_num/fib_denom\n",
    "\n",
    "\n",
    "# test function up to this point\n",
    "#n= 5\n",
    "#table = [None]*(n+1)   # allows for correct dimensions \n",
    "#start_time = time.time()\n",
    "#print('for n =', n, '; f(n)= ',fib_ratio(n),\" and takes %s seconds \" % (time.time() - start_time))\n",
    "# correct output \n",
    "# can't do n = 0 which probably can be accounted for somehow, TBD \n",
    "\n",
    "# next we create the plot components \n",
    "x_value = np.arange(1,11)  # set range 0-30\n",
    "y_value = []  # this is from above definition fib_ratio \n",
    "for x in x_value:\n",
    "    y_value.append(fib_ratio(x))\n",
    "plt.plot(x_value,y_value)\n",
    "plt.show()"
   ]
  },
  {
   "cell_type": "code",
   "execution_count": 23,
   "id": "637f86f7",
   "metadata": {},
   "outputs": [
    {
     "ename": "IndentationError",
     "evalue": "expected an indented block (<ipython-input-23-0b8520c43a2f>, line 74)",
     "output_type": "error",
     "traceback": [
      "\u001b[0;36m  File \u001b[0;32m\"<ipython-input-23-0b8520c43a2f>\"\u001b[0;36m, line \u001b[0;32m74\u001b[0m\n\u001b[0;31m    return\u001b[0m\n\u001b[0m    ^\u001b[0m\n\u001b[0;31mIndentationError\u001b[0m\u001b[0;31m:\u001b[0m expected an indented block\n"
     ]
    }
   ],
   "source": [
    "import time # allows for time calculation and label of actual time\n",
    "import numpy as np # numpy \n",
    "import pylab as p  # import Matplotlib label it as p\n",
    "import matplotlib.pyplot as plt   # Load Matplotlib\n",
    "\n",
    "fib_log = open('HW2data.txt','a') # see - https://www.geeksforgeeks.org/reading-writing-text-files-python/\n",
    "\n",
    "# ```````````````````````````````````````````````````````````````````\n",
    "#  methods defined\n",
    "\n",
    "# tabluation method eg: saves calculations \n",
    "def table_fib(n):\n",
    "    table=[0]*(n+1)\n",
    "    table[1] = 1\n",
    "    for i in range(2,n+1):\n",
    "        table[i]= table[i-1] + table[i-2]\n",
    "    return table[n]\n",
    "\n",
    "\n",
    "# recusion method \n",
    "def rec_fib(n):\n",
    "    if n == 0:\n",
    "        return 0\n",
    "    if n == 1:\n",
    "        return 1\n",
    "    elif (n>2):\n",
    "        return rec_fib(n-1) + rec_fib(n-2)\n",
    "\n",
    "# matrix method from lec3-pre\n",
    "def arrpow(arr, n): # 'arrpow' is the function!!!\n",
    "    yarr=arr  # see: https://pypi.org/project/yarr/ \n",
    "    if n<1:\n",
    "        print('n needs to be larger than 1')\n",
    "    if n==1:\n",
    "        return arr\n",
    "    yarr = arrpow(arr, n//2)\n",
    "    yarr = [[yarr[0][0]*yarr[0][0]+yarr[0][1]*yarr[1][0],yarr[0][0]*yarr[0][1]+yarr[0][1]*yarr[1][1]],\n",
    "            [yarr[1][0]*yarr[0][0]+yarr[1][1]*yarr[1][0],yarr[1][0]*yarr[0][1]+yarr[1][1]*yarr[1][1]]]\n",
    "    if n%2:\n",
    "        yarr=[[yarr[0][0]*arr[0][0]+yarr[0][1]*arr[1][0],yarr[0][0]*arr[0][1]+yarr[0][1]*arr[1][1]],\n",
    "            [yarr[1][0]*arr[0][0]+yarr[1][1]*arr[1][0],yarr[1][0]*arr[0][1]+yarr[1][1]*arr[1][1]]]\n",
    "    return yarr\n",
    "\n",
    "# arrpow is just a TOOL. use it for another defined function such as\n",
    "def test_arrpow(n):\n",
    "    arr= [[1,1],[1,0]]  # fib matrix defined - see lec3-pre for matrix in latex form\n",
    "    f=arrpow(arr,n-1)[0][0]\n",
    "    return f\n",
    "\n",
    "#print(test_arrpow(20))\n",
    "\n",
    "# `````````````````````````````````````````````````````````````````````````\n",
    "# plugging actual numbers into methods and SAVING them in file we opened \n",
    "# notice we'll have 4 columns 'n','meth 1 time', 'meth 2 time', 'meth 3 time'\n",
    "\n",
    "n_exp = np.arange(1,10000,10) # log space \n",
    "\n",
    "for num in n_exp:\n",
    "    line = [None]*(4) #sets dimensions\n",
    "    line[0] = num # logs 'n' in file\n",
    "    \n",
    "# table method line 1\n",
    "    start_time_table = time.time() #time it takes to do table calculations\n",
    "    a = table_fib(num) # association\n",
    "    line[1] = start_time_table - time.time() # value logged\n",
    "    \n",
    "# recusion method line 2\n",
    "    start_time_rec=time.time()\n",
    "    if num == 0:\n",
    "        rec_fib = 0\n",
    "    elif num == 1:\n",
    "        rec_fib=1\n",
    "    elif num >2:\n",
    "    return\n",
    "        \n",
    "    a = rec_fib(num)\n",
    "    line[2]=start_time_rec-time.time()\n",
    "\n",
    "# matrix method line 3\n",
    "\n",
    "\n",
    "\n",
    "    fib_log.write(str(line[0])+' '+str(line[1])+' '+str(line[2])+' '+str(line[3]))\n",
    "    # write... has ONE argument, ...+'  '+... allows for space\n",
    "    # see - https://stackoverflow.com/questions/44768413/python-save-strings-and-numbers-to-a-txt-file\n",
    "  \n",
    "fib_log.close()"
   ]
  },
  {
   "cell_type": "code",
   "execution_count": null,
   "id": "d4284841",
   "metadata": {},
   "outputs": [],
   "source": []
  },
  {
   "cell_type": "code",
   "execution_count": null,
   "id": "248253cd",
   "metadata": {},
   "outputs": [],
   "source": []
  }
 ],
 "metadata": {
  "kernelspec": {
   "display_name": "Python 3",
   "language": "python",
   "name": "python3"
  },
  "language_info": {
   "codemirror_mode": {
    "name": "ipython",
    "version": 3
   },
   "file_extension": ".py",
   "mimetype": "text/x-python",
   "name": "python",
   "nbconvert_exporter": "python",
   "pygments_lexer": "ipython3",
   "version": "3.9.5"
  }
 },
 "nbformat": 4,
 "nbformat_minor": 5
}
