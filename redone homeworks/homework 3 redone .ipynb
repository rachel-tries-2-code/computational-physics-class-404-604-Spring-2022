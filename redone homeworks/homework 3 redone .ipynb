{
 "cells": [
  {
   "cell_type": "code",
   "execution_count": 1,
   "id": "e4352a54",
   "metadata": {},
   "outputs": [
    {
     "name": "stdout",
     "output_type": "stream",
     "text": [
      "x= 1.0  and  dx= 0.1\n",
      "forward difference -0.8670618444256245\n"
     ]
    }
   ],
   "source": [
    "import numpy as np\n",
    "\n",
    "# definitions in Landau - see page 87\n",
    "# expanding T.S. error 'dx'\n",
    "# VERY IMPORTANT TO UNDERSTAND \n",
    "\n",
    "def derifw(y,x,dx):  #forward difference\n",
    "    return (y(x+dx)-y(x))/dx\n",
    "\n",
    "x=1.0 # point we're evaluating\n",
    "dx=0.1 # incrimentation \n",
    "print('x=',x,' and ', 'dx=', dx)\n",
    "print('forward difference',derifw(np.cos,x,dx))"
   ]
  },
  {
   "cell_type": "code",
   "execution_count": 3,
   "id": "cae81460",
   "metadata": {},
   "outputs": [
    {
     "name": "stdout",
     "output_type": "stream",
     "text": [
      "done\n"
     ]
    }
   ],
   "source": [
    "import numpy as np\n",
    "import matplotlib.pyplot as plt\n",
    "\n",
    "\n",
    "# how's the error change with increasing dx ?\n",
    "# forward difference\n",
    "\n",
    "\n",
    "# definitions in Landau - see page 87\n",
    "# expanding T.S. error 'dx'\n",
    "# VERY IMPORTANT TO UNDERSTAND \n",
    "\n",
    "def writeFile(name, n, fwd, cntl):\n",
    "    f = open(name, \"w\")\n",
    "    for i in range(len(n)):\n",
    "        f.write(str(n[i]))\n",
    "        f.write(\"\\t\")\n",
    "        f.write(str(fwd[i]))\n",
    "        f.write(\"\\t\")\n",
    "        f.write(str(cntl[i]))\n",
    "        f.write(\"\\t\")\n",
    "    f.close()\n",
    "    return\n",
    "\n",
    "\n",
    "#forward\n",
    "def derifw(y,x,dx):  #forward difference\n",
    "    return (y(x+dx)-y(x))/dx\n",
    "\n",
    "\n",
    "# central \n",
    "def dericd(y,x,dx): # central difference\n",
    "    return (y(x+dx/2)-y(x-dx/2))/dx\n",
    "\n",
    "# data \n",
    "\n",
    "x= np.pi/4\n",
    "dxarr=[]\n",
    "yarr_dericd=[]\n",
    "yarr_derifw=[]\n",
    "\n",
    "for dx in 10**np.arange(-16, 0.1,0.1): #input range\n",
    "    y=dericd(np.cos,x,dx) # actual funct\n",
    "#    print('dx %g,  y %g'%(dx,y))\n",
    "    dxarr.append(dx) # adds to dx array\n",
    "    yarr_dericd.append(y) # adds to dy array\n",
    "    y=derifw(np.cos,x,dx) # actual funct\n",
    "    yarr_derifw.append(y)\n",
    "    \n",
    "writeFile(\"HW3 data.txt\", dxarr, yarr_dericd, yarr_derifw)  \n",
    "\n",
    "#print(yarr_derifw)\n",
    "print('done')"
   ]
  },
  {
   "cell_type": "code",
   "execution_count": 4,
   "id": "67c24aaf",
   "metadata": {},
   "outputs": [
    {
     "data": {
      "image/png": "[encoded data removed]",
      "text/plain": [
       "<Figure size 432x288 with 1 Axes>"
      ]
     },
     "metadata": {
      "needs_background": "light"
     },
     "output_type": "display_data"
    },
    {
     "name": "stdout",
     "output_type": "stream",
     "text": [
      "n=0 and dx=10^15\n"
     ]
    }
   ],
   "source": [
    "import numpy as np\n",
    "import matplotlib.pyplot as plt\n",
    "\n",
    "#plt.plot(dxarr,abs(yarr_dericd-np.sin(np.pi/4)),'r-',lw=2,label='central')\n",
    "plt.plot(dxarr, abs(yarr_derifw-np.sin(np.pi/4)),'b-', lw=2, label='forward')     \n",
    "plt.xscale('log')\n",
    "plt.yscale('log')\n",
    "plt.xlabel('dx')\n",
    "plt.ylabel('Error')\n",
    "plt.grid(True)\n",
    "plt.legend(loc= 'upper right')\n",
    "plt.show()\n",
    "\n",
    "print('n=0 and dx=10^15')\n",
    "    "
   ]
  },
  {
   "cell_type": "code",
   "execution_count": 5,
   "id": "23e7cd65",
   "metadata": {},
   "outputs": [
    {
     "data": {
      "image/png": "[encoded data removed]",
      "text/plain": [
       "<Figure size 432x288 with 1 Axes>"
      ]
     },
     "metadata": {
      "needs_background": "light"
     },
     "output_type": "display_data"
    },
    {
     "name": "stdout",
     "output_type": "stream",
     "text": [
      "CD is better as the error is smaller by a factor of nearly 10\n"
     ]
    }
   ],
   "source": [
    "import numpy as np\n",
    "import matplotlib.pyplot as plt\n",
    "\n",
    "plt.plot(dxarr,abs(yarr_dericd-np.sin(np.pi/4)),'r-',lw=2,label='central')\n",
    "plt.plot(dxarr, abs(yarr_derifw-np.sin(np.pi/4)),'b-', lw=2, label='forward')     \n",
    "plt.xscale('log')\n",
    "plt.yscale('log')\n",
    "plt.xlabel('dx')\n",
    "plt.ylabel('Error')\n",
    "\n",
    "plt.yticks([0.5,1,2])\n",
    "plt.grid(True)\n",
    "plt.legend(loc= 'lower right')\n",
    "plt.show()\n",
    "\n",
    "print('CD is better as the error is smaller by a factor of nearly 10')"
   ]
  },
  {
   "cell_type": "code",
   "execution_count": 6,
   "id": "3299e92e",
   "metadata": {},
   "outputs": [
    {
     "data": {
      "image/png": "[encoded data removed]",
      "text/plain": [
       "<Figure size 432x288 with 1 Axes>"
      ]
     },
     "metadata": {
      "needs_background": "light"
     },
     "output_type": "display_data"
    }
   ],
   "source": [
    "import numpy as np\n",
    "import matplotlib.pyplot as plt\n",
    "\n",
    "\n",
    "# how's the error change with increasing dx \n",
    "# forward difference\n",
    "\n",
    "\n",
    "# definitions in Landau - see page 87\n",
    "# expanding T.S. error 'dx'\n",
    "# VERY IMPORTANT TO UNDERSTAND \n",
    "\n",
    "def writeFile(name, n, cntl):\n",
    "    f = open(name, \"w\")\n",
    "    for i in range(len(n)):\n",
    "        f.write(str(n[i]))\n",
    "        f.write(\"\\t\")\n",
    "        f.write(str(cntl[i]))\n",
    "        f.write(\"\\t\")\n",
    "    f.close()\n",
    "    return\n",
    "\n",
    "# central \n",
    "def dericd(y,x,dx): # central difference\n",
    "    return (y(x+dx/2)-y(x-dx/2))/dx\n",
    "\n",
    "# data \n",
    "\n",
    "x= 0.\n",
    "dxarr=[]\n",
    "yarr_dericd=[]\n",
    "\n",
    "for dx in 10**np.arange(-16, 0.1,0.1): #input range\n",
    "    y=dericd(np.cos,x,dx) # actual funct\n",
    "#    print('dx %g,  y %g'%(dx,y))\n",
    "    dxarr.append(dx) # adds to dx array\n",
    "    yarr_dericd.append(y) # adds to dy array\n",
    "\n",
    "    \n",
    "writeFile(\"HW3 prob 3 data.txt\", dxarr, yarr_dericd)  \n",
    "\n",
    "import numpy as np\n",
    "import matplotlib.pyplot as plt\n",
    "\n",
    "plt.plot(dxarr,yarr_dericd,'g-',lw=2,label='x=0')\n",
    "#plt.plot(dxarr,abs(yarr_dericd-np.sin(0.)),'r-',lw=2,label='central')\n",
    "plt.xscale('log')\n",
    "plt.yscale('linear')\n",
    "plt.xlabel('dx')\n",
    "plt.ylabel('Error')\n",
    "plt.grid(True)\n",
    "plt.legend(loc= 'lower right')\n",
    "plt.show()\n",
    "\n"
   ]
  },
  {
   "cell_type": "markdown",
   "id": "5409b92a",
   "metadata": {},
   "source": [
    "since we're using central difference theorem, we know from lect 4:\n",
    "$dy/dx= y'(x) + dx/24*y^{[3]}$ \n",
    "but here $ y = cos(x) \\rightarrow y' = sin(x)$ \n",
    "which means for x = 0 the derivative will always be 0"
   ]
  },
  {
   "cell_type": "code",
   "execution_count": null,
   "id": "dcd1ef1e",
   "metadata": {},
   "outputs": [],
   "source": []
  }
 ],
 "metadata": {
  "kernelspec": {
   "display_name": "Python 3",
   "language": "python",
   "name": "python3"
  },
  "language_info": {
   "codemirror_mode": {
    "name": "ipython",
    "version": 3
   },
   "file_extension": ".py",
   "mimetype": "text/x-python",
   "name": "python",
   "nbconvert_exporter": "python",
   "pygments_lexer": "ipython3",
   "version": "3.9.5"
  }
 },
 "nbformat": 4,
 "nbformat_minor": 5
}
