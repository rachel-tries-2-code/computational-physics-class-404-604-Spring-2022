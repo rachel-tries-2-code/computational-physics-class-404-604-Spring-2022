{
 "cells": [
  {
   "cell_type": "code",
   "execution_count": 1,
   "id": "fbca7d41",
   "metadata": {},
   "outputs": [
    {
     "data": {
      "image/png": "[encoded data removed]",
      "text/plain": [
       "<Figure size 432x288 with 1 Axes>"
      ]
     },
     "metadata": {
      "needs_background": "light"
     },
     "output_type": "display_data"
    },
    {
     "name": "stdout",
     "output_type": "stream",
     "text": [
      "done\n"
     ]
    }
   ],
   "source": [
    "import pylab as p     # import Matplotlib label it as p\n",
    "import numpy as np  # import numpy library\n",
    "import matplotlib.pyplot as plt   # Load Matplotlib\n",
    "import math #factorials \n",
    "\n",
    "\n",
    "# title and axis labels outside plot\n",
    "p.title('Plotting f(x) = pi/2 + 2*(sin(x)+sin(3x)/3 + sin(5x)/5+...)')                           \n",
    "p.xlabel('x (arbitrary)')\n",
    "p.ylabel('y (arbitrary)')\n",
    "# Text on plot \n",
    "#text(x pos,  y pos, 'text')                  \n",
    "\n",
    "# axis ranges\n",
    "plt.xlim(-4,4)\n",
    "plt.ylim(-2,5)\n",
    "\n",
    "# first iteration where n = 11\n",
    "n0 = 11 # not needed but easy to keep track\n",
    "x0 = np.linspace(-np.pi,np.pi,100) # range and pt amount\n",
    "y0 = np.pi/2 # for n = 0\n",
    "\n",
    "for n0 in range(12):   # we have range [0,11,1]\n",
    "    if n0%2==0:        # skips when 'n' is even\n",
    "        continue       # loop is exited when 'n' is even\n",
    "    y0 = y0 + 2*np.sin(n0*x0)/n0 # only odd 'n' see this\n",
    "p.plot(x0,y0,'c--',label='n=11') # p.plot(X,Y,'COLOR')\n",
    "\n",
    "# SEE - beginners book for more explinations of loops\n",
    "\n",
    "\n",
    "# second iteration where n = 21\n",
    "n1 = 21\n",
    "x1 = np.linspace(-np.pi,np.pi,100) # range and pt amount\n",
    "y1 = np.pi/2 # for n = 0\n",
    "\n",
    "for n1 in range(22):\n",
    "    if n1%2==0:\n",
    "        continue\n",
    "    y1 = y1 + 2*np.sin(n1*x1)/n1\n",
    "p.plot(x1,y1,'r--',label='n=21')\n",
    "\n",
    "\n",
    "\n",
    "# for n = 31 iteration \n",
    "n2 = 31\n",
    "x2 = np.linspace(-np.pi,np.pi,100) # range and pt amount\n",
    "y2 = np.pi/2 # for n = 0\n",
    "\n",
    "for n2 in range(32):\n",
    "    if n2%2==0:\n",
    "        continue\n",
    "    y2 = y2 + 2*np.sin(n2*x2)/n2\n",
    "p.plot(x2,y2,'g:',label = 'n=31')\n",
    "\n",
    "\n",
    "\n",
    "plt.legend()\n",
    "p.show()\n",
    "\n",
    "\n",
    "print('done')"
   ]
  },
  {
   "cell_type": "code",
   "execution_count": 2,
   "id": "26768c28",
   "metadata": {},
   "outputs": [
    {
     "data": {
      "text/html": [
       "<div id=\"glowscript\" class=\"glowscript\"></div>"
      ],
      "text/plain": [
       "<IPython.core.display.HTML object>"
      ]
     },
     "metadata": {},
     "output_type": "display_data"
    },
    {
     "data": {
      "application/javascript": [
       "if (typeof Jupyter !== \"undefined\") { window.__context = { glowscript_container: $(\"#glowscript\").removeAttr(\"id\")};}else{ element.textContent = ' ';}"
      ],
      "text/plain": [
       "<IPython.core.display.Javascript object>"
      ]
     },
     "metadata": {},
     "output_type": "display_data"
    },
    {
     "name": "stdout",
     "output_type": "stream",
     "text": [
      "problem B: create animation\n"
     ]
    },
    {
     "data": {
      "text/html": [
       "<div id=\"glowscript\" class=\"glowscript\"></div>"
      ],
      "text/plain": [
       "<IPython.core.display.HTML object>"
      ]
     },
     "metadata": {},
     "output_type": "display_data"
    },
    {
     "data": {
      "application/javascript": [
       "if (typeof Jupyter !== \"undefined\") { window.__context = { glowscript_container: $(\"#glowscript\").removeAttr(\"id\")};}else{ element.textContent = ' ';}"
      ],
      "text/plain": [
       "<IPython.core.display.Javascript object>"
      ]
     },
     "metadata": {},
     "output_type": "display_data"
    },
    {
     "data": {
      "application/javascript": [
       "if (typeof Jupyter !== \"undefined\") {require.undef(\"nbextensions/vpython_libraries/glow.min\");}else{element.textContent = ' ';}"
      ],
      "text/plain": [
       "<IPython.core.display.Javascript object>"
      ]
     },
     "metadata": {},
     "output_type": "display_data"
    },
    {
     "data": {
      "application/javascript": [
       "if (typeof Jupyter !== \"undefined\") {require.undef(\"nbextensions/vpython_libraries/glowcomm\");}else{element.textContent = ' ';}"
      ],
      "text/plain": [
       "<IPython.core.display.Javascript object>"
      ]
     },
     "metadata": {},
     "output_type": "display_data"
    },
    {
     "data": {
      "application/javascript": [
       "if (typeof Jupyter !== \"undefined\") {require.undef(\"nbextensions/vpython_libraries/jquery-ui.custom.min\");}else{element.textContent = ' ';}"
      ],
      "text/plain": [
       "<IPython.core.display.Javascript object>"
      ]
     },
     "metadata": {},
     "output_type": "display_data"
    },
    {
     "data": {
      "application/javascript": [
       "if (typeof Jupyter !== \"undefined\") {require([\"nbextensions/vpython_libraries/glow.min\"], function(){console.log(\"GLOW LOADED\");});}else{element.textContent = ' ';}"
      ],
      "text/plain": [
       "<IPython.core.display.Javascript object>"
      ]
     },
     "metadata": {},
     "output_type": "display_data"
    },
    {
     "data": {
      "application/javascript": [
       "if (typeof Jupyter !== \"undefined\") {require([\"nbextensions/vpython_libraries/glowcomm\"], function(){console.log(\"GLOWCOMM LOADED\");});}else{element.textContent = ' ';}"
      ],
      "text/plain": [
       "<IPython.core.display.Javascript object>"
      ]
     },
     "metadata": {},
     "output_type": "display_data"
    },
    {
     "data": {
      "application/javascript": [
       "if (typeof Jupyter !== \"undefined\") {require([\"nbextensions/vpython_libraries/jquery-ui.custom.min\"], function(){console.log(\"JQUERY LOADED\");});}else{element.textContent = ' ';}"
      ],
      "text/plain": [
       "<IPython.core.display.Javascript object>"
      ]
     },
     "metadata": {},
     "output_type": "display_data"
    },
    {
     "name": "stdout",
     "output_type": "stream",
     "text": [
      "done\n"
     ]
    }
   ],
   "source": [
    "from vpython import * # importing package\n",
    "print('problem B: create animation')\n",
    "scene = canvas(title = 'Collision Animation', width = 500, height = 300) # creating environment\n",
    "\n",
    "# objects and definitionsR\n",
    "# format - Name = shape(pos = vector(x1,x2,x3), radius = R, color = color.XXX)\n",
    "\n",
    "Righty = sphere(pos = vector(0,0,0), radius = 1, color = color.green)\n",
    "Lefty = sphere(pos = vector(-4,0,0), radius = 1, color = color.blue)\n",
    "\n",
    "r = vector(1,0,0) # sets base for the loop \n",
    "\n",
    "while (r.x <= 3):\n",
    "    rate(2) # speed of presentation (higher is quicker)\n",
    "    Lefty.pos = r # change of right sphere in each sequence \n",
    "    Righty.pos = Lefty.pos + r # change of left sphere in each sequence \n",
    "    r.x = r.x + 1\n",
    "    \n",
    "print('done')\n",
    "# Question to consider - if we wanted to 1) incorporate spring 2) incorporate oscillation "
   ]
  },
  {
   "cell_type": "code",
   "execution_count": 7,
   "id": "60a81a26",
   "metadata": {},
   "outputs": [
    {
     "name": "stdout",
     "output_type": "stream",
     "text": [
      "problem c: integrate f(x) for n = 11\n",
      "function definition is ok\n",
      "for n=11 the series is:\n",
      " f(x) =  1.5707963267949*x - 2*cos(x) - 2*cos(3*x)/9 - 2*cos(5*x)/25 - 2*cos(7*x)/49 - 2*cos(9*x)/81 - 2*cos(11*x)/121\n"
     ]
    },
    {
     "ename": "ValueError",
     "evalue": "Invalid limits given: (-3.141592653589793,)",
     "output_type": "error",
     "traceback": [
      "\u001b[0;31m---------------------------------------------------------------------------\u001b[0m",
      "\u001b[0;31mValueError\u001b[0m                                Traceback (most recent call last)",
      "\u001b[0;32m<ipython-input-7-66023edda956>\u001b[0m in \u001b[0;36m<module>\u001b[0;34m\u001b[0m\n\u001b[1;32m     48\u001b[0m \u001b[0;34m\u001b[0m\u001b[0m\n\u001b[1;32m     49\u001b[0m \u001b[0;32mfor\u001b[0m \u001b[0mx\u001b[0m \u001b[0;32min\u001b[0m \u001b[0mx\u001b[0m\u001b[0;34m:\u001b[0m\u001b[0;34m\u001b[0m\u001b[0;34m\u001b[0m\u001b[0m\n\u001b[0;32m---> 50\u001b[0;31m     \u001b[0my\u001b[0m\u001b[0;34m.\u001b[0m\u001b[0mappend\u001b[0m\u001b[0;34m(\u001b[0m\u001b[0mintegrate\u001b[0m\u001b[0;34m(\u001b[0m\u001b[0mfunction\u001b[0m\u001b[0;34m(\u001b[0m\u001b[0mx\u001b[0m\u001b[0;34m,\u001b[0m\u001b[0;36m11\u001b[0m\u001b[0;34m)\u001b[0m\u001b[0;34m,\u001b[0m\u001b[0mx\u001b[0m\u001b[0;34m)\u001b[0m\u001b[0;34m,\u001b[0m\u001b[0;34m(\u001b[0m\u001b[0mx\u001b[0m\u001b[0;34m,\u001b[0m\u001b[0;34m-\u001b[0m\u001b[0mnp\u001b[0m\u001b[0;34m.\u001b[0m\u001b[0mpi\u001b[0m\u001b[0;34m,\u001b[0m\u001b[0mx\u001b[0m\u001b[0;34m)\u001b[0m\u001b[0;34m)\u001b[0m\u001b[0;34m\u001b[0m\u001b[0;34m\u001b[0m\u001b[0m\n\u001b[0m\u001b[1;32m     51\u001b[0m \u001b[0;34m\u001b[0m\u001b[0m\n\u001b[1;32m     52\u001b[0m \u001b[0mplt\u001b[0m\u001b[0;34m.\u001b[0m\u001b[0mplot\u001b[0m\u001b[0;34m(\u001b[0m\u001b[0mxo\u001b[0m\u001b[0;34m,\u001b[0m\u001b[0my\u001b[0m\u001b[0;34m)\u001b[0m\u001b[0;34m\u001b[0m\u001b[0;34m\u001b[0m\u001b[0m\n",
      "\u001b[0;32m~/miniconda3/lib/python3.9/site-packages/sympy/integrals/integrals.py\u001b[0m in \u001b[0;36mintegrate\u001b[0;34m(meijerg, conds, risch, heurisch, manual, *args, **kwargs)\u001b[0m\n\u001b[1;32m   1561\u001b[0m         \u001b[0;34m'manual'\u001b[0m\u001b[0;34m:\u001b[0m \u001b[0mmanual\u001b[0m\u001b[0;34m\u001b[0m\u001b[0;34m\u001b[0m\u001b[0m\n\u001b[1;32m   1562\u001b[0m         }\n\u001b[0;32m-> 1563\u001b[0;31m     \u001b[0mintegral\u001b[0m \u001b[0;34m=\u001b[0m \u001b[0mIntegral\u001b[0m\u001b[0;34m(\u001b[0m\u001b[0;34m*\u001b[0m\u001b[0margs\u001b[0m\u001b[0;34m,\u001b[0m \u001b[0;34m**\u001b[0m\u001b[0mkwargs\u001b[0m\u001b[0;34m)\u001b[0m\u001b[0;34m\u001b[0m\u001b[0;34m\u001b[0m\u001b[0m\n\u001b[0m\u001b[1;32m   1564\u001b[0m \u001b[0;34m\u001b[0m\u001b[0m\n\u001b[1;32m   1565\u001b[0m     \u001b[0;32mif\u001b[0m \u001b[0misinstance\u001b[0m\u001b[0;34m(\u001b[0m\u001b[0mintegral\u001b[0m\u001b[0;34m,\u001b[0m \u001b[0mIntegral\u001b[0m\u001b[0;34m)\u001b[0m\u001b[0;34m:\u001b[0m\u001b[0;34m\u001b[0m\u001b[0;34m\u001b[0m\u001b[0m\n",
      "\u001b[0;32m~/miniconda3/lib/python3.9/site-packages/sympy/integrals/integrals.py\u001b[0m in \u001b[0;36m__new__\u001b[0;34m(cls, function, *symbols, **assumptions)\u001b[0m\n\u001b[1;32m     97\u001b[0m                 active_deprecations_target=\"deprecated-integrate-poly\")\n\u001b[1;32m     98\u001b[0m \u001b[0;34m\u001b[0m\u001b[0m\n\u001b[0;32m---> 99\u001b[0;31m         \u001b[0mobj\u001b[0m \u001b[0;34m=\u001b[0m \u001b[0mAddWithLimits\u001b[0m\u001b[0;34m.\u001b[0m\u001b[0m__new__\u001b[0m\u001b[0;34m(\u001b[0m\u001b[0mcls\u001b[0m\u001b[0;34m,\u001b[0m \u001b[0mfunction\u001b[0m\u001b[0;34m,\u001b[0m \u001b[0;34m*\u001b[0m\u001b[0msymbols\u001b[0m\u001b[0;34m,\u001b[0m \u001b[0;34m**\u001b[0m\u001b[0massumptions\u001b[0m\u001b[0;34m)\u001b[0m\u001b[0;34m\u001b[0m\u001b[0;34m\u001b[0m\u001b[0m\n\u001b[0m\u001b[1;32m    100\u001b[0m         \u001b[0;32mreturn\u001b[0m \u001b[0mobj\u001b[0m\u001b[0;34m\u001b[0m\u001b[0;34m\u001b[0m\u001b[0m\n\u001b[1;32m    101\u001b[0m \u001b[0;34m\u001b[0m\u001b[0m\n",
      "\u001b[0;32m~/miniconda3/lib/python3.9/site-packages/sympy/concrete/expr_with_limits.py\u001b[0m in \u001b[0;36m__new__\u001b[0;34m(cls, function, *symbols, **assumptions)\u001b[0m\n\u001b[1;32m    543\u001b[0m     \u001b[0;32mdef\u001b[0m \u001b[0m__new__\u001b[0m\u001b[0;34m(\u001b[0m\u001b[0mcls\u001b[0m\u001b[0;34m,\u001b[0m \u001b[0mfunction\u001b[0m\u001b[0;34m,\u001b[0m \u001b[0;34m*\u001b[0m\u001b[0msymbols\u001b[0m\u001b[0;34m,\u001b[0m \u001b[0;34m**\u001b[0m\u001b[0massumptions\u001b[0m\u001b[0;34m)\u001b[0m\u001b[0;34m:\u001b[0m\u001b[0;34m\u001b[0m\u001b[0;34m\u001b[0m\u001b[0m\n\u001b[1;32m    544\u001b[0m         \u001b[0;32mfrom\u001b[0m \u001b[0msympy\u001b[0m\u001b[0;34m.\u001b[0m\u001b[0mconcrete\u001b[0m\u001b[0;34m.\u001b[0m\u001b[0msummations\u001b[0m \u001b[0;32mimport\u001b[0m \u001b[0mSum\u001b[0m\u001b[0;34m\u001b[0m\u001b[0;34m\u001b[0m\u001b[0m\n\u001b[0;32m--> 545\u001b[0;31m         pre = _common_new(cls, function, *symbols,\n\u001b[0m\u001b[1;32m    546\u001b[0m             discrete=issubclass(cls, Sum), **assumptions)\n\u001b[1;32m    547\u001b[0m         \u001b[0;32mif\u001b[0m \u001b[0misinstance\u001b[0m\u001b[0;34m(\u001b[0m\u001b[0mpre\u001b[0m\u001b[0;34m,\u001b[0m \u001b[0mtuple\u001b[0m\u001b[0;34m)\u001b[0m\u001b[0;34m:\u001b[0m\u001b[0;34m\u001b[0m\u001b[0;34m\u001b[0m\u001b[0m\n",
      "\u001b[0;32m~/miniconda3/lib/python3.9/site-packages/sympy/concrete/expr_with_limits.py\u001b[0m in \u001b[0;36m_common_new\u001b[0;34m(cls, function, discrete, *symbols, **assumptions)\u001b[0m\n\u001b[1;32m     55\u001b[0m \u001b[0;34m\u001b[0m\u001b[0m\n\u001b[1;32m     56\u001b[0m     \u001b[0;32mif\u001b[0m \u001b[0msymbols\u001b[0m\u001b[0;34m:\u001b[0m\u001b[0;34m\u001b[0m\u001b[0;34m\u001b[0m\u001b[0m\n\u001b[0;32m---> 57\u001b[0;31m         \u001b[0mlimits\u001b[0m\u001b[0;34m,\u001b[0m \u001b[0morientation\u001b[0m \u001b[0;34m=\u001b[0m \u001b[0m_process_limits\u001b[0m\u001b[0;34m(\u001b[0m\u001b[0;34m*\u001b[0m\u001b[0msymbols\u001b[0m\u001b[0;34m,\u001b[0m \u001b[0mdiscrete\u001b[0m\u001b[0;34m=\u001b[0m\u001b[0mdiscrete\u001b[0m\u001b[0;34m)\u001b[0m\u001b[0;34m\u001b[0m\u001b[0;34m\u001b[0m\u001b[0m\n\u001b[0m\u001b[1;32m     58\u001b[0m         \u001b[0;32mfor\u001b[0m \u001b[0mi\u001b[0m\u001b[0;34m,\u001b[0m \u001b[0mli\u001b[0m \u001b[0;32min\u001b[0m \u001b[0menumerate\u001b[0m\u001b[0;34m(\u001b[0m\u001b[0mlimits\u001b[0m\u001b[0;34m)\u001b[0m\u001b[0;34m:\u001b[0m\u001b[0;34m\u001b[0m\u001b[0;34m\u001b[0m\u001b[0m\n\u001b[1;32m     59\u001b[0m             \u001b[0;32mif\u001b[0m \u001b[0mlen\u001b[0m\u001b[0;34m(\u001b[0m\u001b[0mli\u001b[0m\u001b[0;34m)\u001b[0m \u001b[0;34m==\u001b[0m \u001b[0;36m4\u001b[0m\u001b[0;34m:\u001b[0m\u001b[0;34m\u001b[0m\u001b[0;34m\u001b[0m\u001b[0m\n",
      "\u001b[0;32m~/miniconda3/lib/python3.9/site-packages/sympy/concrete/expr_with_limits.py\u001b[0m in \u001b[0;36m_process_limits\u001b[0;34m(discrete, *symbols)\u001b[0m\n\u001b[1;32m    192\u001b[0m                         \u001b[0;32mcontinue\u001b[0m\u001b[0;34m\u001b[0m\u001b[0;34m\u001b[0m\u001b[0m\n\u001b[1;32m    193\u001b[0m \u001b[0;34m\u001b[0m\u001b[0m\n\u001b[0;32m--> 194\u001b[0;31m         \u001b[0;32mraise\u001b[0m \u001b[0mValueError\u001b[0m\u001b[0;34m(\u001b[0m\u001b[0;34m'Invalid limits given: %s'\u001b[0m \u001b[0;34m%\u001b[0m \u001b[0mstr\u001b[0m\u001b[0;34m(\u001b[0m\u001b[0msymbols\u001b[0m\u001b[0;34m)\u001b[0m\u001b[0;34m)\u001b[0m\u001b[0;34m\u001b[0m\u001b[0;34m\u001b[0m\u001b[0m\n\u001b[0m\u001b[1;32m    195\u001b[0m \u001b[0;34m\u001b[0m\u001b[0m\n\u001b[1;32m    196\u001b[0m     \u001b[0;32mreturn\u001b[0m \u001b[0mlimits\u001b[0m\u001b[0;34m,\u001b[0m \u001b[0morientation\u001b[0m\u001b[0;34m\u001b[0m\u001b[0;34m\u001b[0m\u001b[0m\n",
      "\u001b[0;31mValueError\u001b[0m: Invalid limits given: (-3.141592653589793,)"
     ]
    }
   ],
   "source": [
    "print('problem c: integrate f(x) for n = 11')\n",
    "\n",
    "\n",
    "# integrate f(x) for n = 11\n",
    "\n",
    "import numpy as np\n",
    "import matplotlib as plt\n",
    "from sympy import *\n",
    "\n",
    "\n",
    "# first iteration where n = 11\n",
    "#n0 = 11 # not needed but easy to keep track\n",
    "#x0 = np.linspace(-np.pi,np.pi,100) # range and pt amount\n",
    "#y0 = np.pi/2 # for n = 0\n",
    "\n",
    "# initial function \n",
    "#for n0 in range(12):   # we have range [0,11,1]\n",
    "#   if n0%2==0:        # skips when 'n' is even\n",
    "#       continue       # loop is exited when 'n' is even\n",
    "# y0 = y0 + 2*np.sin(n0*x0)/n0 # only odd 'n' see this\n",
    "\n",
    "\n",
    "def function(i,n): # refining above 2 be actual function\n",
    "    x_out = np.pi/2\n",
    "    for k in range(0,n+1): #nn to n (since n1 = 0)\n",
    "        if k%2== 1: # skips when n is even\n",
    "            x_out = x_out +(2*sin(k*i)/k) # 2sin(nk)/k\n",
    "    return x_out\n",
    "# if leading pi/2 isnt labeled same as eqn then it\n",
    "# won't consider entire series\n",
    "\n",
    "\n",
    "print('function definition is ok')\n",
    "#f = integrate(function(x,11),x)\n",
    "x = Symbol('x') # needed to avoid traceback\n",
    "print(\"for n=11 the series is:\\n f(x) = \", integrate(function(x,11),x))\n",
    "\n",
    "\n",
    "\n",
    "# integrate function with actual x  values\n",
    "x = np.linspace(-np.pi,np.pi,100) # range and pt amount\n",
    "y = [] # set size defined by x\n",
    "\n",
    "\n",
    "# integrate function see: https://docs.sympy.org/latest/modules/integrals/integrals.html\n",
    "# integral has definite range 0,11\n",
    "# we just want to plug x into f(x) can  use 'append'\n",
    "\n",
    "for x in x:\n",
    "    y.append(integrate(function(x,11),x),(x,-np.pi,x))\n",
    "    \n",
    "plt.plot(xo,y)\n",
    "plt.show()"
   ]
  },
  {
   "cell_type": "code",
   "execution_count": null,
   "id": "e6ea6fe9",
   "metadata": {},
   "outputs": [],
   "source": []
  }
 ],
 "metadata": {
  "kernelspec": {
   "display_name": "Python 3",
   "language": "python",
   "name": "python3"
  },
  "language_info": {
   "codemirror_mode": {
    "name": "ipython",
    "version": 3
   },
   "file_extension": ".py",
   "mimetype": "text/x-python",
   "name": "python",
   "nbconvert_exporter": "python",
   "pygments_lexer": "ipython3",
   "version": "3.9.5"
  }
 },
 "nbformat": 4,
 "nbformat_minor": 5
}
