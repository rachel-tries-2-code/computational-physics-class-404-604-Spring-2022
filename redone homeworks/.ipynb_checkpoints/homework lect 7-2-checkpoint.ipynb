{
 "cells": [
  {
   "cell_type": "code",
   "execution_count": null,
   "id": "fce3ce64",
   "metadata": {},
   "outputs": [],
   "source": [
    "\n",
    "#Graduate student:\n",
    "# Write your own Runge-Kutta scheme to calculate the orbit of two equal mass binary.\n",
    "# The mass of each binary makes GM_{i}=1, (i is 1 or 2). The two binary stars are\n",
    "# seperated by a distance of 1 initially. Initialize the binary velocity so that\n",
    "# each binary star will have an eccentricity of 0. Evolve this system to 100\n",
    "# binary orbits, and plot their orbits in the x-y plane. "
   ]
  },
  {
   "cell_type": "code",
   "execution_count": 1,
   "id": "c30d924a",
   "metadata": {},
   "outputs": [
    {
     "data": {
      "image/png": "[encoded data removed]",
      "text/plain": [
       "<Figure size 432x288 with 1 Axes>"
      ]
     },
     "metadata": {
      "needs_background": "light"
     },
     "output_type": "display_data"
    }
   ],
   "source": [
    "# So we have y[0]=x, y[1]=v_{x}, y[2]=y, y[3]=v_{y}\n",
    "\n",
    "import numpy as np\n",
    "import matplotlib.pyplot as plt\n",
    "\n",
    "G=1.  #requirement\n",
    "M=1.  # req\n",
    "tend=200*np.pi  # required 100 end so just 100*2*pi (100*period)\n",
    "h=0.01  # machine can't handle 0.001 steps\n",
    "y=[0.5,0.,0.,np.sqrt(2)],[-0.5,0,0,-np.sqrt(2)] # req for ecc to be 0, just make vy1 = -vy2\n",
    "t=0\n",
    "\n",
    "\n",
    "# matrix looks like \n",
    "# C = [0,1,2,3]\n",
    "# [x1,vx1,y1,vy1] R= [0]\n",
    "# [x2,vx2,y2,vy2] R= [1]\n",
    "\n",
    "# zeros are matrix of (2,4) REPLACE n with (2,4) in rk4 too!!\n",
    "\n",
    "def f(t, y):\n",
    "    f=np.zeros((2,4))\n",
    "    r1= np.sqrt(y[0][0]*y[0][0]+y[0][2]*y[0][2])\n",
    "    r2 = np.sqrt(y[1][0]*y[1][0]+y[1][2]*y[1][2])\n",
    "    f[0][0]=y[0][1]\n",
    "    f[0][1]=-G*M/r1/r1/r1*y[0][0]\n",
    "    f[0][2]=y[0][3]\n",
    "    f[0][3]=-G*M/r1/r1/r1*y[0][2]\n",
    "    \n",
    "    f[1][0]=y[1][1]\n",
    "    f[1][1]=-G*M/r2/r2/r2*y[1][0]\n",
    "    f[1][2]=y[1][3]\n",
    "    f[1][3]=-G*M/r2/r2/r2*y[1][2]\n",
    "    return f\n",
    "\n",
    "\n",
    "\n",
    "def rk4(t, h, y):\n",
    "    k1 = np.zeros((2,4))\n",
    "    k2 = np.zeros((2,4))\n",
    "    k3 = np.zeros((2,4))\n",
    "    k4 = np.zeros((2,4))\n",
    "    k1=h*f(t,y)\n",
    "    k2=h*f(t+0.5*h,y+0.5*k1)\n",
    "    k3=h*f(t+0.5*h,y+0.5*k2)\n",
    "    k4=h*f(t+h,y+k3)\n",
    "    y+=(k1+2.*(k2+k3)+k4)/6.\n",
    "    return y\n",
    "\n",
    "# matrix looks like \n",
    "# C = [0,1,2,3]\n",
    "# [x1,vx1,y1,vy1] R= [0]\n",
    "# [x2,vx2,y2,vy2] R= [1]\n",
    "\n",
    "# zeros are matrix of (2,4) REPLACE n with (2,4) in rk4 too!!\n",
    "\n",
    "\n",
    "xp1=[]\n",
    "yp1=[]\n",
    "xp2=[]\n",
    "yp2=[]\n",
    "while(t<tend):\n",
    "    if((t+h)>tend):\n",
    "        h=tend-t\n",
    "    y = rk4(t,h,y)\n",
    "    xp1=np.append(xp1,y[0][0])\n",
    "    yp1=np.append(yp1,y[0][2])\n",
    "    xp2=np.append(xp2,y[1][0])\n",
    "    yp2=np.append(yp2,y[1][2])\n",
    "    \n",
    "    t = t+h\n",
    "\n",
    "plt.plot(xp1,yp1,\"-\")\n",
    "plt.plot(xp2,yp2,\"-\")\n",
    "plt.xlabel(\"x-location\")\n",
    "plt.ylabel(\"calculated y\")\n",
    "plt.show()"
   ]
  },
  {
   "cell_type": "code",
   "execution_count": null,
   "id": "6d612b7d",
   "metadata": {},
   "outputs": [],
   "source": []
  }
 ],
 "metadata": {
  "kernelspec": {
   "display_name": "Python 3",
   "language": "python",
   "name": "python3"
  },
  "language_info": {
   "codemirror_mode": {
    "name": "ipython",
    "version": 3
   },
   "file_extension": ".py",
   "mimetype": "text/x-python",
   "name": "python",
   "nbconvert_exporter": "python",
   "pygments_lexer": "ipython3",
   "version": "3.9.5"
  }
 },
 "nbformat": 4,
 "nbformat_minor": 5
}
