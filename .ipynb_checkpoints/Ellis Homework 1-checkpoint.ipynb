{
 "cells": [
  {
   "cell_type": "markdown",
   "id": "c842cc0e",
   "metadata": {},
   "source": [
    "Write a program to plot,\n",
    "\n",
    "$$\n",
    "f(x) = \\pi/2 + 2 * (sin(x) + sin(3x)/3 + sin(5x)/5 + ... + sin(nx)/n) \\newline \\text{from}\\space -\\pi\\space \\text{to} \\space \\pi. \n",
    "$$\n",
    "for n = 11, 21, 31"
   ]
  },
  {
   "cell_type": "code",
   "execution_count": 4,
   "id": "d6a0fb87",
   "metadata": {},
   "outputs": [
    {
     "data": {
      "image/png": "[encoded data removed]",
      "text/plain": [
       "<Figure size 432x288 with 1 Axes>"
      ]
     },
     "metadata": {
      "needs_background": "light"
     },
     "output_type": "display_data"
    },
    {
     "name": "stdout",
     "output_type": "stream",
     "text": [
      "done\n"
     ]
    }
   ],
   "source": [
    "import pylab as p     # import Matplotlib label it as p\n",
    "import numpy as np  # import numpy library\n",
    "import matplotlib.pyplot as plt   # Load Matplotlib\n",
    "import math #factorials \n",
    "\n",
    "\n",
    "# title and axis labels outside plot\n",
    "p.title('Plotting 3 functions')                           \n",
    "p.xlabel('x (arbitrary)')\n",
    "p.ylabel('y (arbitrary)')\n",
    "# Text on plot \n",
    "#text(x pos,  y pos, 'text')                  \n",
    "\n",
    "# axis ranges\n",
    "plt.xlim(-4,4)\n",
    "plt.ylim(-2,5)\n",
    "\n",
    "# first iteration where n = 11\n",
    "n0 = 11 # not needed but easy to keep track\n",
    "x0 = np.linspace(-np.pi,np.pi,100) # range and pt amount\n",
    "y0 = np.pi/2 # for n = 0\n",
    "\n",
    "for n0 in range(12):   # we have range [0,11,1]\n",
    "    if n0%2==0:        # skips when 'n' is even\n",
    "        continue       # loop is exited when 'n' is even\n",
    "    y0 = y0 + 2*np.sin(n0*x0)/n0 # only odd 'n' see this\n",
    "p.plot(x0,y0,'c--',label='n=11') # p.plot(X,Y,'COLOR')\n",
    "\n",
    "# SEE - beginners book for more explinations of loops\n",
    "\n",
    "\n",
    "# second iteration where n = 21\n",
    "n1 = 21\n",
    "x1 = np.linspace(-np.pi,np.pi,100) # range and pt amount\n",
    "y1 = np.pi/2 # for n = 0\n",
    "\n",
    "for n1 in range(22):\n",
    "    if n1%2==0:\n",
    "        continue\n",
    "    y1 = y1 + 2*np.sin(n1*x1)/n1\n",
    "p.plot(x1,y1,'r--',label='n=21')\n",
    "\n",
    "\n",
    "\n",
    "# for n = 31 iteration \n",
    "n2 = 31\n",
    "x2 = np.linspace(-np.pi,np.pi,100) # range and pt amount\n",
    "y2 = np.pi/2 # for n = 0\n",
    "\n",
    "for n2 in range(32):\n",
    "    if n2%2==0:\n",
    "        continue\n",
    "    y2 = y2 + 2*np.sin(n2*x2)/n2\n",
    "p.plot(x2,y2,'g:',label = 'n=31')\n",
    "\n",
    "\n",
    "\n",
    "plt.legend()\n",
    "p.show()\n",
    "\n",
    "\n",
    "print('done')"
   ]
  },
  {
   "cell_type": "markdown",
   "id": "cd669a43",
   "metadata": {},
   "source": [
    "# Problem 2: create an animation"
   ]
  },
  {
   "cell_type": "code",
   "execution_count": 6,
   "id": "47dae365",
   "metadata": {},
   "outputs": [
    {
     "data": {
      "text/html": [
       "<div id=\"glowscript\" class=\"glowscript\"></div>"
      ],
      "text/plain": [
       "<IPython.core.display.HTML object>"
      ]
     },
     "metadata": {},
     "output_type": "display_data"
    },
    {
     "data": {
      "application/javascript": [
       "if (typeof Jupyter !== \"undefined\") { window.__context = { glowscript_container: $(\"#glowscript\").removeAttr(\"id\")};}else{ element.textContent = ' ';}"
      ],
      "text/plain": [
       "<IPython.core.display.Javascript object>"
      ]
     },
     "metadata": {},
     "output_type": "display_data"
    },
    {
     "name": "stdout",
     "output_type": "stream",
     "text": [
      "done\n"
     ]
    }
   ],
   "source": [
    "from vpython import * # importing package\n",
    "\n",
    "scene = canvas(title = 'Collision Animation', width = 500, height = 300) # creating environment\n",
    "\n",
    "# objects and definitionsR\n",
    "# format - Name = shape(pos = vector(x1,x2,x3), radius = R, color = color.XXX)\n",
    "\n",
    "Righty = sphere(pos = vector(0,0,0), radius = 1, color = color.green)\n",
    "Lefty = sphere(pos = vector(-4,0,0), radius = 1, color = color.blue)\n",
    "\n",
    "r = vector(1,0,0) # sets base for the loop \n",
    "\n",
    "while (r.x <= 3):\n",
    "    rate(2) # speed of presentation (higher is quicker)\n",
    "    Lefty.pos = r # change of right sphere in each sequence \n",
    "    Righty.pos = Lefty.pos + r # change of left sphere in each sequence \n",
    "    r.x = r.x + 1\n",
    "    \n",
    "print('done')\n",
    "# Question to consider - if we wanted to 1) incorporate spring 2) incorporate oscillation "
   ]
  },
  {
   "cell_type": "code",
   "execution_count": 5,
   "id": "41a439d9",
   "metadata": {},
   "outputs": [
    {
     "ename": "ModuleNotFoundError",
     "evalue": "No module named 'sympy'",
     "output_type": "error",
     "traceback": [
      "\u001b[0;31m---------------------------------------------------------------------------\u001b[0m",
      "\u001b[0;31mModuleNotFoundError\u001b[0m                       Traceback (most recent call last)",
      "\u001b[0;32m<ipython-input-5-6e415854a280>\u001b[0m in \u001b[0;36m<module>\u001b[0;34m\u001b[0m\n\u001b[1;32m      3\u001b[0m \u001b[0;32mimport\u001b[0m \u001b[0mnumpy\u001b[0m \u001b[0;32mas\u001b[0m \u001b[0mnp\u001b[0m\u001b[0;34m\u001b[0m\u001b[0;34m\u001b[0m\u001b[0m\n\u001b[1;32m      4\u001b[0m \u001b[0;32mimport\u001b[0m \u001b[0mpylab\u001b[0m \u001b[0;32mas\u001b[0m \u001b[0mp\u001b[0m\u001b[0;34m\u001b[0m\u001b[0;34m\u001b[0m\u001b[0m\n\u001b[0;32m----> 5\u001b[0;31m \u001b[0;32mfrom\u001b[0m \u001b[0msympy\u001b[0m \u001b[0;32mimport\u001b[0m \u001b[0;34m*\u001b[0m\u001b[0;34m\u001b[0m\u001b[0;34m\u001b[0m\u001b[0m\n\u001b[0m\u001b[1;32m      6\u001b[0m \u001b[0;34m\u001b[0m\u001b[0m\n\u001b[1;32m      7\u001b[0m \u001b[0;31m#redefine function used in earlier block\u001b[0m\u001b[0;34m\u001b[0m\u001b[0;34m\u001b[0m\u001b[0;34m\u001b[0m\u001b[0m\n",
      "\u001b[0;31mModuleNotFoundError\u001b[0m: No module named 'sympy'"
     ]
    }
   ],
   "source": [
    "# integrate f(x) for n = 11\n",
    "\n",
    "import numpy as np\n",
    "import pylab as p\n",
    "from sympy import *\n",
    "\n",
    "#redefine function used in earlier block\n",
    "def func(i,nn):\n",
    "    out=np.pi/2 #lead value\n",
    "    for k in range(0,nn+1): #iterate over wavenumbers from 0 to n for other values\n",
    "        if k%2 == 1: #select only odd k's\n",
    "            out = out+((2*sin(k*i))/k) #evaluate funct \n",
    "    return out\n"
   ]
  },
  {
   "cell_type": "code",
   "execution_count": null,
   "id": "5aa47b86",
   "metadata": {},
   "outputs": [],
   "source": []
  }
 ],
 "metadata": {
  "kernelspec": {
   "display_name": "Python 3",
   "language": "python",
   "name": "python3"
  },
  "language_info": {
   "codemirror_mode": {
    "name": "ipython",
    "version": 3
   },
   "file_extension": ".py",
   "mimetype": "text/x-python",
   "name": "python",
   "nbconvert_exporter": "python",
   "pygments_lexer": "ipython3",
   "version": "3.9.5"
  }
 },
 "nbformat": 4,
 "nbformat_minor": 5
}
