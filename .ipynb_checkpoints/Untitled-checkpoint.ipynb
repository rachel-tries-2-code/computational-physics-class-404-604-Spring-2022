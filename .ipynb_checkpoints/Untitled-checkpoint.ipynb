{
 "cells": [
  {
   "cell_type": "markdown",
   "id": "39b4a6a7",
   "metadata": {},
   "source": [
    "## Homework 1"
   ]
  },
  {
   "cell_type": "code",
   "execution_count": 2,
   "id": "0e879873",
   "metadata": {},
   "outputs": [
    {
     "data": {
      "image/png": "[encoded data removed]",
      "text/plain": [
       "<Figure size 432x288 with 1 Axes>"
      ]
     },
     "metadata": {
      "needs_background": "light"
     },
     "output_type": "display_data"
    },
    {
     "name": "stdout",
     "output_type": "stream",
     "text": [
      "done\n"
     ]
    }
   ],
   "source": [
    "import pylab as p     # import Matplotlib label it as p\n",
    "import numpy as np  # import numpy library\n",
    "import matplotlib.pyplot as plt   # Load Matplotlib\n",
    "import math #factorials \n",
    "\n",
    "\n",
    "# title and axis labels outside plot\n",
    "p.title('Plotting f(x) = pi/2 + 2*(sin(x)+sin(3x)/3 + sin(5x)/5+...)')                           \n",
    "p.xlabel('x (arbitrary)')\n",
    "p.ylabel('y (arbitrary)')\n",
    "# Text on plot \n",
    "#text(x pos,  y pos, 'text')                  \n",
    "\n",
    "# axis ranges\n",
    "plt.xlim(-4,4)\n",
    "plt.ylim(-2,5)\n",
    "\n",
    "# first iteration where n = 11\n",
    "n0 = 11 # not needed but easy to keep track\n",
    "x0 = np.linspace(-np.pi,np.pi,100) # range and pt amount\n",
    "y0 = np.pi/2 # for n = 0\n",
    "\n",
    "for n0 in range(12):   # we have range [0,11,1]\n",
    "    if n0%2==0:        # skips when 'n' is even\n",
    "        continue       # loop is exited when 'n' is even\n",
    "    y0 = y0 + 2*np.sin(n0*x0)/n0 # only odd 'n' see this\n",
    "p.plot(x0,y0,'c--',label='n=11') # p.plot(X,Y,'COLOR')\n",
    "\n",
    "# SEE - beginners book for more explinations of loops\n",
    "\n",
    "\n",
    "# second iteration where n = 21\n",
    "n1 = 21\n",
    "x1 = np.linspace(-np.pi,np.pi,100) # range and pt amount\n",
    "y1 = np.pi/2 # for n = 0\n",
    "\n",
    "for n1 in range(22):\n",
    "    if n1%2==0:\n",
    "        continue\n",
    "    y1 = y1 + 2*np.sin(n1*x1)/n1\n",
    "p.plot(x1,y1,'r--',label='n=21')\n",
    "\n",
    "\n",
    "\n",
    "# for n = 31 iteration \n",
    "n2 = 31\n",
    "x2 = np.linspace(-np.pi,np.pi,100) # range and pt amount\n",
    "y2 = np.pi/2 # for n = 0\n",
    "\n",
    "for n2 in range(32):\n",
    "    if n2%2==0:\n",
    "        continue\n",
    "    y2 = y2 + 2*np.sin(n2*x2)/n2\n",
    "p.plot(x2,y2,'g:',label = 'n=31')\n",
    "\n",
    "\n",
    "\n",
    "plt.legend()\n",
    "p.show()\n",
    "\n",
    "\n",
    "print('done')"
   ]
  },
  {
   "cell_type": "markdown",
   "id": "cbdc5673",
   "metadata": {},
   "source": [
    "## homework 1"
   ]
  },
  {
   "cell_type": "code",
   "execution_count": 3,
   "id": "18f6fadc",
   "metadata": {},
   "outputs": [
    {
     "data": {
      "text/html": [
       "<div id=\"glowscript\" class=\"glowscript\"></div>"
      ],
      "text/plain": [
       "<IPython.core.display.HTML object>"
      ]
     },
     "metadata": {},
     "output_type": "display_data"
    },
    {
     "data": {
      "application/javascript": [
       "if (typeof Jupyter !== \"undefined\") { window.__context = { glowscript_container: $(\"#glowscript\").removeAttr(\"id\")};}else{ element.textContent = ' ';}"
      ],
      "text/plain": [
       "<IPython.core.display.Javascript object>"
      ]
     },
     "metadata": {},
     "output_type": "display_data"
    },
    {
     "data": {
      "text/html": [
       "<div id=\"glowscript\" class=\"glowscript\"></div>"
      ],
      "text/plain": [
       "<IPython.core.display.HTML object>"
      ]
     },
     "metadata": {},
     "output_type": "display_data"
    },
    {
     "data": {
      "application/javascript": [
       "if (typeof Jupyter !== \"undefined\") { window.__context = { glowscript_container: $(\"#glowscript\").removeAttr(\"id\")};}else{ element.textContent = ' ';}"
      ],
      "text/plain": [
       "<IPython.core.display.Javascript object>"
      ]
     },
     "metadata": {},
     "output_type": "display_data"
    },
    {
     "data": {
      "application/javascript": [
       "if (typeof Jupyter !== \"undefined\") {require.undef(\"nbextensions/vpython_libraries/glow.min\");}else{element.textContent = ' ';}"
      ],
      "text/plain": [
       "<IPython.core.display.Javascript object>"
      ]
     },
     "metadata": {},
     "output_type": "display_data"
    },
    {
     "data": {
      "application/javascript": [
       "if (typeof Jupyter !== \"undefined\") {require.undef(\"nbextensions/vpython_libraries/glowcomm\");}else{element.textContent = ' ';}"
      ],
      "text/plain": [
       "<IPython.core.display.Javascript object>"
      ]
     },
     "metadata": {},
     "output_type": "display_data"
    },
    {
     "data": {
      "application/javascript": [
       "if (typeof Jupyter !== \"undefined\") {require.undef(\"nbextensions/vpython_libraries/jquery-ui.custom.min\");}else{element.textContent = ' ';}"
      ],
      "text/plain": [
       "<IPython.core.display.Javascript object>"
      ]
     },
     "metadata": {},
     "output_type": "display_data"
    },
    {
     "data": {
      "application/javascript": [
       "if (typeof Jupyter !== \"undefined\") {require([\"nbextensions/vpython_libraries/glow.min\"], function(){console.log(\"GLOW LOADED\");});}else{element.textContent = ' ';}"
      ],
      "text/plain": [
       "<IPython.core.display.Javascript object>"
      ]
     },
     "metadata": {},
     "output_type": "display_data"
    },
    {
     "data": {
      "application/javascript": [
       "if (typeof Jupyter !== \"undefined\") {require([\"nbextensions/vpython_libraries/glowcomm\"], function(){console.log(\"GLOWCOMM LOADED\");});}else{element.textContent = ' ';}"
      ],
      "text/plain": [
       "<IPython.core.display.Javascript object>"
      ]
     },
     "metadata": {},
     "output_type": "display_data"
    },
    {
     "data": {
      "application/javascript": [
       "if (typeof Jupyter !== \"undefined\") {require([\"nbextensions/vpython_libraries/jquery-ui.custom.min\"], function(){console.log(\"JQUERY LOADED\");});}else{element.textContent = ' ';}"
      ],
      "text/plain": [
       "<IPython.core.display.Javascript object>"
      ]
     },
     "metadata": {},
     "output_type": "display_data"
    },
    {
     "name": "stdout",
     "output_type": "stream",
     "text": [
      "done\n"
     ]
    }
   ],
   "source": [
    "from vpython import * # importing package\n",
    "\n",
    "scene = canvas(title = 'Collision Animation', width = 500, height = 300) # creating environment\n",
    "\n",
    "# objects and definitionsR\n",
    "# format - Name = shape(pos = vector(x1,x2,x3), radius = R, color = color.XXX)\n",
    "\n",
    "Righty = sphere(pos = vector(0,0,0), radius = 1, color = color.green)\n",
    "Lefty = sphere(pos = vector(-4,0,0), radius = 1, color = color.blue)\n",
    "\n",
    "r = vector(1,0,0) # sets base for the loop \n",
    "\n",
    "while (r.x <= 3):\n",
    "    rate(2) # speed of presentation (higher is quicker)\n",
    "    Lefty.pos = r # change of right sphere in each sequence \n",
    "    Righty.pos = Lefty.pos + r # change of left sphere in each sequence \n",
    "    r.x = r.x + 1\n",
    "    \n",
    "print('done')\n",
    "# Question to consider - if we wanted to 1) incorporate spring 2) incorporate oscillation "
   ]
  },
  {
   "cell_type": "markdown",
   "id": "4247329a",
   "metadata": {},
   "source": [
    "## homework 1"
   ]
  },
  {
   "cell_type": "code",
   "execution_count": 36,
   "id": "6b05b769",
   "metadata": {},
   "outputs": [
    {
     "name": "stdout",
     "output_type": "stream",
     "text": [
      "function definition is ok\n",
      "for n=11 the series is:\n",
      " f(x) =  1.5707963267949*x - 2*cos(x) - 2*cos(3*x)/9 - 2*cos(5*x)/25 - 2*cos(7*x)/49 - 2*cos(9*x)/81 - 2*cos(11*x)/121\n"
     ]
    },
    {
     "ename": "AttributeError",
     "evalue": "'ImmutableDenseNDimArray' object has no attribute 'as_coefficient'",
     "output_type": "error",
     "traceback": [
      "\u001b[0;31m---------------------------------------------------------------------------\u001b[0m",
      "\u001b[0;31mTypeError\u001b[0m                                 Traceback (most recent call last)",
      "\u001b[0;32m~/miniconda3/lib/python3.9/site-packages/sympy/core/cache.py\u001b[0m in \u001b[0;36mwrapper\u001b[0;34m(*args, **kwargs)\u001b[0m\n\u001b[1;32m     69\u001b[0m             \u001b[0;32mtry\u001b[0m\u001b[0;34m:\u001b[0m\u001b[0;34m\u001b[0m\u001b[0;34m\u001b[0m\u001b[0m\n\u001b[0;32m---> 70\u001b[0;31m                 \u001b[0mretval\u001b[0m \u001b[0;34m=\u001b[0m \u001b[0mcfunc\u001b[0m\u001b[0;34m(\u001b[0m\u001b[0;34m*\u001b[0m\u001b[0margs\u001b[0m\u001b[0;34m,\u001b[0m \u001b[0;34m**\u001b[0m\u001b[0mkwargs\u001b[0m\u001b[0;34m)\u001b[0m\u001b[0;34m\u001b[0m\u001b[0;34m\u001b[0m\u001b[0m\n\u001b[0m\u001b[1;32m     71\u001b[0m             \u001b[0;32mexcept\u001b[0m \u001b[0mTypeError\u001b[0m \u001b[0;32mas\u001b[0m \u001b[0me\u001b[0m\u001b[0;34m:\u001b[0m\u001b[0;34m\u001b[0m\u001b[0;34m\u001b[0m\u001b[0m\n",
      "\u001b[0;31mTypeError\u001b[0m: unhashable type: 'numpy.ndarray'",
      "\nDuring handling of the above exception, another exception occurred:\n",
      "\u001b[0;31mTypeError\u001b[0m                                 Traceback (most recent call last)",
      "\u001b[0;32m~/miniconda3/lib/python3.9/site-packages/sympy/core/cache.py\u001b[0m in \u001b[0;36mwrapper\u001b[0;34m(*args, **kwargs)\u001b[0m\n\u001b[1;32m     69\u001b[0m             \u001b[0;32mtry\u001b[0m\u001b[0;34m:\u001b[0m\u001b[0;34m\u001b[0m\u001b[0;34m\u001b[0m\u001b[0m\n\u001b[0;32m---> 70\u001b[0;31m                 \u001b[0mretval\u001b[0m \u001b[0;34m=\u001b[0m \u001b[0mcfunc\u001b[0m\u001b[0;34m(\u001b[0m\u001b[0;34m*\u001b[0m\u001b[0margs\u001b[0m\u001b[0;34m,\u001b[0m \u001b[0;34m**\u001b[0m\u001b[0mkwargs\u001b[0m\u001b[0;34m)\u001b[0m\u001b[0;34m\u001b[0m\u001b[0;34m\u001b[0m\u001b[0m\n\u001b[0m\u001b[1;32m     71\u001b[0m             \u001b[0;32mexcept\u001b[0m \u001b[0mTypeError\u001b[0m \u001b[0;32mas\u001b[0m \u001b[0me\u001b[0m\u001b[0;34m:\u001b[0m\u001b[0;34m\u001b[0m\u001b[0;34m\u001b[0m\u001b[0m\n",
      "\u001b[0;31mTypeError\u001b[0m: unhashable type: 'numpy.ndarray'",
      "\nDuring handling of the above exception, another exception occurred:\n",
      "\u001b[0;31mAttributeError\u001b[0m                            Traceback (most recent call last)",
      "\u001b[0;32m<ipython-input-36-35918909e822>\u001b[0m in \u001b[0;36m<module>\u001b[0;34m\u001b[0m\n\u001b[1;32m     44\u001b[0m \u001b[0;34m\u001b[0m\u001b[0m\n\u001b[1;32m     45\u001b[0m \u001b[0;32mfor\u001b[0m \u001b[0mxi\u001b[0m \u001b[0;32min\u001b[0m \u001b[0mx0\u001b[0m\u001b[0;34m:\u001b[0m\u001b[0;34m\u001b[0m\u001b[0;34m\u001b[0m\u001b[0m\n\u001b[0;32m---> 46\u001b[0;31m     \u001b[0my\u001b[0m\u001b[0;34m.\u001b[0m\u001b[0mappend\u001b[0m\u001b[0;34m(\u001b[0m\u001b[0mintegrate\u001b[0m\u001b[0;34m(\u001b[0m\u001b[0mfunction\u001b[0m\u001b[0;34m(\u001b[0m\u001b[0mx0\u001b[0m\u001b[0;34m,\u001b[0m\u001b[0;36m11\u001b[0m\u001b[0;34m)\u001b[0m\u001b[0;34m,\u001b[0m\u001b[0mx0\u001b[0m\u001b[0;34m)\u001b[0m\u001b[0;34m,\u001b[0m\u001b[0;34m(\u001b[0m\u001b[0mx0\u001b[0m\u001b[0;34m,\u001b[0m\u001b[0;34m-\u001b[0m\u001b[0mnp\u001b[0m\u001b[0;34m.\u001b[0m\u001b[0mpi\u001b[0m\u001b[0;34m,\u001b[0m\u001b[0mxi\u001b[0m\u001b[0;34m)\u001b[0m\u001b[0;34m)\u001b[0m\u001b[0;34m\u001b[0m\u001b[0;34m\u001b[0m\u001b[0m\n\u001b[0m\u001b[1;32m     47\u001b[0m \u001b[0;34m\u001b[0m\u001b[0m\n\u001b[1;32m     48\u001b[0m \u001b[0mplt\u001b[0m\u001b[0;34m.\u001b[0m\u001b[0mplot\u001b[0m\u001b[0;34m(\u001b[0m\u001b[0mxo\u001b[0m\u001b[0;34m,\u001b[0m\u001b[0my\u001b[0m\u001b[0;34m)\u001b[0m\u001b[0;34m\u001b[0m\u001b[0;34m\u001b[0m\u001b[0m\n",
      "\u001b[0;32m<ipython-input-36-35918909e822>\u001b[0m in \u001b[0;36mfunction\u001b[0;34m(i, n)\u001b[0m\n\u001b[1;32m     22\u001b[0m     \u001b[0;32mfor\u001b[0m \u001b[0mk\u001b[0m \u001b[0;32min\u001b[0m \u001b[0mrange\u001b[0m\u001b[0;34m(\u001b[0m\u001b[0;36m0\u001b[0m\u001b[0;34m,\u001b[0m\u001b[0mn\u001b[0m\u001b[0;34m+\u001b[0m\u001b[0;36m1\u001b[0m\u001b[0;34m)\u001b[0m\u001b[0;34m:\u001b[0m \u001b[0;31m#nn to n (since n1 = 0)\u001b[0m\u001b[0;34m\u001b[0m\u001b[0;34m\u001b[0m\u001b[0m\n\u001b[1;32m     23\u001b[0m         \u001b[0;32mif\u001b[0m \u001b[0mk\u001b[0m\u001b[0;34m%\u001b[0m\u001b[0;36m2\u001b[0m\u001b[0;34m==\u001b[0m \u001b[0;36m1\u001b[0m\u001b[0;34m:\u001b[0m \u001b[0;31m# skips when n is even\u001b[0m\u001b[0;34m\u001b[0m\u001b[0;34m\u001b[0m\u001b[0m\n\u001b[0;32m---> 24\u001b[0;31m             \u001b[0mx_out\u001b[0m \u001b[0;34m=\u001b[0m \u001b[0mx_out\u001b[0m \u001b[0;34m+\u001b[0m\u001b[0;34m(\u001b[0m\u001b[0;36m2\u001b[0m\u001b[0;34m*\u001b[0m\u001b[0msin\u001b[0m\u001b[0;34m(\u001b[0m\u001b[0mk\u001b[0m\u001b[0;34m*\u001b[0m\u001b[0mi\u001b[0m\u001b[0;34m)\u001b[0m\u001b[0;34m/\u001b[0m\u001b[0mk\u001b[0m\u001b[0;34m)\u001b[0m \u001b[0;31m# 2sin(nk)/k\u001b[0m\u001b[0;34m\u001b[0m\u001b[0;34m\u001b[0m\u001b[0m\n\u001b[0m\u001b[1;32m     25\u001b[0m     \u001b[0;32mreturn\u001b[0m \u001b[0mx_out\u001b[0m\u001b[0;34m\u001b[0m\u001b[0;34m\u001b[0m\u001b[0m\n\u001b[1;32m     26\u001b[0m \u001b[0;31m# if leading pi/2 isnt labeled same as eqn then it\u001b[0m\u001b[0;34m\u001b[0m\u001b[0;34m\u001b[0m\u001b[0;34m\u001b[0m\u001b[0m\n",
      "\u001b[0;32m~/miniconda3/lib/python3.9/site-packages/sympy/core/cache.py\u001b[0m in \u001b[0;36mwrapper\u001b[0;34m(*args, **kwargs)\u001b[0m\n\u001b[1;32m     72\u001b[0m                 \u001b[0;32mif\u001b[0m \u001b[0;32mnot\u001b[0m \u001b[0me\u001b[0m\u001b[0;34m.\u001b[0m\u001b[0margs\u001b[0m \u001b[0;32mor\u001b[0m \u001b[0;32mnot\u001b[0m \u001b[0me\u001b[0m\u001b[0;34m.\u001b[0m\u001b[0margs\u001b[0m\u001b[0;34m[\u001b[0m\u001b[0;36m0\u001b[0m\u001b[0;34m]\u001b[0m\u001b[0;34m.\u001b[0m\u001b[0mstartswith\u001b[0m\u001b[0;34m(\u001b[0m\u001b[0;34m'unhashable type:'\u001b[0m\u001b[0;34m)\u001b[0m\u001b[0;34m:\u001b[0m\u001b[0;34m\u001b[0m\u001b[0;34m\u001b[0m\u001b[0m\n\u001b[1;32m     73\u001b[0m                     \u001b[0;32mraise\u001b[0m\u001b[0;34m\u001b[0m\u001b[0;34m\u001b[0m\u001b[0m\n\u001b[0;32m---> 74\u001b[0;31m                 \u001b[0mretval\u001b[0m \u001b[0;34m=\u001b[0m \u001b[0mfunc\u001b[0m\u001b[0;34m(\u001b[0m\u001b[0;34m*\u001b[0m\u001b[0margs\u001b[0m\u001b[0;34m,\u001b[0m \u001b[0;34m**\u001b[0m\u001b[0mkwargs\u001b[0m\u001b[0;34m)\u001b[0m\u001b[0;34m\u001b[0m\u001b[0;34m\u001b[0m\u001b[0m\n\u001b[0m\u001b[1;32m     75\u001b[0m             \u001b[0;32mreturn\u001b[0m \u001b[0mretval\u001b[0m\u001b[0;34m\u001b[0m\u001b[0;34m\u001b[0m\u001b[0m\n\u001b[1;32m     76\u001b[0m \u001b[0;34m\u001b[0m\u001b[0m\n",
      "\u001b[0;32m~/miniconda3/lib/python3.9/site-packages/sympy/core/function.py\u001b[0m in \u001b[0;36m__new__\u001b[0;34m(cls, *args, **options)\u001b[0m\n\u001b[1;32m    474\u001b[0m \u001b[0;34m\u001b[0m\u001b[0m\n\u001b[1;32m    475\u001b[0m         \u001b[0mevaluate\u001b[0m \u001b[0;34m=\u001b[0m \u001b[0moptions\u001b[0m\u001b[0;34m.\u001b[0m\u001b[0mget\u001b[0m\u001b[0;34m(\u001b[0m\u001b[0;34m'evaluate'\u001b[0m\u001b[0;34m,\u001b[0m \u001b[0mglobal_parameters\u001b[0m\u001b[0;34m.\u001b[0m\u001b[0mevaluate\u001b[0m\u001b[0;34m)\u001b[0m\u001b[0;34m\u001b[0m\u001b[0;34m\u001b[0m\u001b[0m\n\u001b[0;32m--> 476\u001b[0;31m         \u001b[0mresult\u001b[0m \u001b[0;34m=\u001b[0m \u001b[0msuper\u001b[0m\u001b[0;34m(\u001b[0m\u001b[0;34m)\u001b[0m\u001b[0;34m.\u001b[0m\u001b[0m__new__\u001b[0m\u001b[0;34m(\u001b[0m\u001b[0mcls\u001b[0m\u001b[0;34m,\u001b[0m \u001b[0;34m*\u001b[0m\u001b[0margs\u001b[0m\u001b[0;34m,\u001b[0m \u001b[0;34m**\u001b[0m\u001b[0moptions\u001b[0m\u001b[0;34m)\u001b[0m\u001b[0;34m\u001b[0m\u001b[0;34m\u001b[0m\u001b[0m\n\u001b[0m\u001b[1;32m    477\u001b[0m         \u001b[0;32mif\u001b[0m \u001b[0mevaluate\u001b[0m \u001b[0;32mand\u001b[0m \u001b[0misinstance\u001b[0m\u001b[0;34m(\u001b[0m\u001b[0mresult\u001b[0m\u001b[0;34m,\u001b[0m \u001b[0mcls\u001b[0m\u001b[0;34m)\u001b[0m \u001b[0;32mand\u001b[0m \u001b[0mresult\u001b[0m\u001b[0;34m.\u001b[0m\u001b[0margs\u001b[0m\u001b[0;34m:\u001b[0m\u001b[0;34m\u001b[0m\u001b[0;34m\u001b[0m\u001b[0m\n\u001b[1;32m    478\u001b[0m             \u001b[0mpr2\u001b[0m \u001b[0;34m=\u001b[0m \u001b[0mmin\u001b[0m\u001b[0;34m(\u001b[0m\u001b[0mcls\u001b[0m\u001b[0;34m.\u001b[0m\u001b[0m_should_evalf\u001b[0m\u001b[0;34m(\u001b[0m\u001b[0ma\u001b[0m\u001b[0;34m)\u001b[0m \u001b[0;32mfor\u001b[0m \u001b[0ma\u001b[0m \u001b[0;32min\u001b[0m \u001b[0mresult\u001b[0m\u001b[0;34m.\u001b[0m\u001b[0margs\u001b[0m\u001b[0;34m)\u001b[0m\u001b[0;34m\u001b[0m\u001b[0;34m\u001b[0m\u001b[0m\n",
      "\u001b[0;32m~/miniconda3/lib/python3.9/site-packages/sympy/core/cache.py\u001b[0m in \u001b[0;36mwrapper\u001b[0;34m(*args, **kwargs)\u001b[0m\n\u001b[1;32m     72\u001b[0m                 \u001b[0;32mif\u001b[0m \u001b[0;32mnot\u001b[0m \u001b[0me\u001b[0m\u001b[0;34m.\u001b[0m\u001b[0margs\u001b[0m \u001b[0;32mor\u001b[0m \u001b[0;32mnot\u001b[0m \u001b[0me\u001b[0m\u001b[0;34m.\u001b[0m\u001b[0margs\u001b[0m\u001b[0;34m[\u001b[0m\u001b[0;36m0\u001b[0m\u001b[0;34m]\u001b[0m\u001b[0;34m.\u001b[0m\u001b[0mstartswith\u001b[0m\u001b[0;34m(\u001b[0m\u001b[0;34m'unhashable type:'\u001b[0m\u001b[0;34m)\u001b[0m\u001b[0;34m:\u001b[0m\u001b[0;34m\u001b[0m\u001b[0;34m\u001b[0m\u001b[0m\n\u001b[1;32m     73\u001b[0m                     \u001b[0;32mraise\u001b[0m\u001b[0;34m\u001b[0m\u001b[0;34m\u001b[0m\u001b[0m\n\u001b[0;32m---> 74\u001b[0;31m                 \u001b[0mretval\u001b[0m \u001b[0;34m=\u001b[0m \u001b[0mfunc\u001b[0m\u001b[0;34m(\u001b[0m\u001b[0;34m*\u001b[0m\u001b[0margs\u001b[0m\u001b[0;34m,\u001b[0m \u001b[0;34m**\u001b[0m\u001b[0mkwargs\u001b[0m\u001b[0;34m)\u001b[0m\u001b[0;34m\u001b[0m\u001b[0;34m\u001b[0m\u001b[0m\n\u001b[0m\u001b[1;32m     75\u001b[0m             \u001b[0;32mreturn\u001b[0m \u001b[0mretval\u001b[0m\u001b[0;34m\u001b[0m\u001b[0;34m\u001b[0m\u001b[0m\n\u001b[1;32m     76\u001b[0m \u001b[0;34m\u001b[0m\u001b[0m\n",
      "\u001b[0;32m~/miniconda3/lib/python3.9/site-packages/sympy/core/function.py\u001b[0m in \u001b[0;36m__new__\u001b[0;34m(cls, *args, **options)\u001b[0m\n\u001b[1;32m    286\u001b[0m \u001b[0;34m\u001b[0m\u001b[0m\n\u001b[1;32m    287\u001b[0m         \u001b[0;32mif\u001b[0m \u001b[0mevaluate\u001b[0m\u001b[0;34m:\u001b[0m\u001b[0;34m\u001b[0m\u001b[0;34m\u001b[0m\u001b[0m\n\u001b[0;32m--> 288\u001b[0;31m             \u001b[0mevaluated\u001b[0m \u001b[0;34m=\u001b[0m \u001b[0mcls\u001b[0m\u001b[0;34m.\u001b[0m\u001b[0meval\u001b[0m\u001b[0;34m(\u001b[0m\u001b[0;34m*\u001b[0m\u001b[0margs\u001b[0m\u001b[0;34m)\u001b[0m\u001b[0;34m\u001b[0m\u001b[0;34m\u001b[0m\u001b[0m\n\u001b[0m\u001b[1;32m    289\u001b[0m             \u001b[0;32mif\u001b[0m \u001b[0mevaluated\u001b[0m \u001b[0;32mis\u001b[0m \u001b[0;32mnot\u001b[0m \u001b[0;32mNone\u001b[0m\u001b[0;34m:\u001b[0m\u001b[0;34m\u001b[0m\u001b[0;34m\u001b[0m\u001b[0m\n\u001b[1;32m    290\u001b[0m                 \u001b[0;32mreturn\u001b[0m \u001b[0mevaluated\u001b[0m\u001b[0;34m\u001b[0m\u001b[0;34m\u001b[0m\u001b[0m\n",
      "\u001b[0;32m~/miniconda3/lib/python3.9/site-packages/sympy/functions/elementary/trigonometric.py\u001b[0m in \u001b[0;36meval\u001b[0;34m(cls, arg)\u001b[0m\n\u001b[1;32m    304\u001b[0m             \u001b[0;32mreturn\u001b[0m \u001b[0;34m-\u001b[0m\u001b[0mcls\u001b[0m\u001b[0;34m(\u001b[0m\u001b[0;34m-\u001b[0m\u001b[0marg\u001b[0m\u001b[0;34m)\u001b[0m\u001b[0;34m\u001b[0m\u001b[0;34m\u001b[0m\u001b[0m\n\u001b[1;32m    305\u001b[0m \u001b[0;34m\u001b[0m\u001b[0m\n\u001b[0;32m--> 306\u001b[0;31m         \u001b[0mi_coeff\u001b[0m \u001b[0;34m=\u001b[0m \u001b[0marg\u001b[0m\u001b[0;34m.\u001b[0m\u001b[0mas_coefficient\u001b[0m\u001b[0;34m(\u001b[0m\u001b[0mS\u001b[0m\u001b[0;34m.\u001b[0m\u001b[0mImaginaryUnit\u001b[0m\u001b[0;34m)\u001b[0m\u001b[0;34m\u001b[0m\u001b[0;34m\u001b[0m\u001b[0m\n\u001b[0m\u001b[1;32m    307\u001b[0m         \u001b[0;32mif\u001b[0m \u001b[0mi_coeff\u001b[0m \u001b[0;32mis\u001b[0m \u001b[0;32mnot\u001b[0m \u001b[0;32mNone\u001b[0m\u001b[0;34m:\u001b[0m\u001b[0;34m\u001b[0m\u001b[0;34m\u001b[0m\u001b[0m\n\u001b[1;32m    308\u001b[0m             \u001b[0;32mreturn\u001b[0m \u001b[0mS\u001b[0m\u001b[0;34m.\u001b[0m\u001b[0mImaginaryUnit\u001b[0m\u001b[0;34m*\u001b[0m\u001b[0msinh\u001b[0m\u001b[0;34m(\u001b[0m\u001b[0mi_coeff\u001b[0m\u001b[0;34m)\u001b[0m\u001b[0;34m\u001b[0m\u001b[0;34m\u001b[0m\u001b[0m\n",
      "\u001b[0;31mAttributeError\u001b[0m: 'ImmutableDenseNDimArray' object has no attribute 'as_coefficient'"
     ]
    }
   ],
   "source": [
    "# integrate f(x) for n = 11\n",
    "\n",
    "import numpy as np\n",
    "import matplotlib as plt\n",
    "from sympy import *\n",
    "\n",
    "\n",
    "# first iteration where n = 11\n",
    "#n0 = 11 # not needed but easy to keep track\n",
    "#x0 = np.linspace(-np.pi,np.pi,100) # range and pt amount\n",
    "#y0 = np.pi/2 # for n = 0\n",
    "\n",
    "# initial function \n",
    "#for n0 in range(12):   # we have range [0,11,1]\n",
    "#   if n0%2==0:        # skips when 'n' is even\n",
    "#       continue       # loop is exited when 'n' is even\n",
    "# y0 = y0 + 2*np.sin(n0*x0)/n0 # only odd 'n' see this\n",
    "\n",
    "\n",
    "def function(i,n): # refining above 2 be actual function\n",
    "    x_out = np.pi/2\n",
    "    for k in range(0,n+1): #nn to n (since n1 = 0)\n",
    "        if k%2== 1: # skips when n is even\n",
    "            x_out = x_out +(2*sin(k*i)/k) # 2sin(nk)/k\n",
    "    return x_out\n",
    "# if leading pi/2 isnt labeled same as eqn then it\n",
    "# won't consider entire series\n",
    "\n",
    "\n",
    "print('function definition is ok')\n",
    "#f = integrate(function(x,11),x)\n",
    "x = Symbol('x') # needed to avoid traceback\n",
    "print(\"for n=11 the series is:\\n f(x) = \", integrate(function(x,11),x))\n",
    "\n",
    "\n",
    "\n",
    "# integrate function with actual x  values\n",
    "xo = np.linspace(-np.pi,np.pi,100) # range and pt amount\n",
    "y = [] # set size defined by x\n",
    "\n",
    "# integrate function see: https://docs.sympy.org/latest/modules/integrals/integrals.html\n",
    "# integral has definite range 0,11\n",
    "# we just want to plug x into f(x) can  use 'append'\n",
    "\n",
    "for xi in x0:\n",
    "    y.append(integrate(function(x0,11),x0),(x0,-np.pi,xi))\n",
    "    \n",
    "plt.plot(xo,y)\n",
    "plt.show()"
   ]
  },
  {
   "cell_type": "markdown",
   "id": "1cd35579",
   "metadata": {},
   "source": [
    "## Homework 3"
   ]
  },
  {
   "cell_type": "code",
   "execution_count": 37,
   "id": "10c9a09b",
   "metadata": {},
   "outputs": [
    {
     "name": "stdout",
     "output_type": "stream",
     "text": [
      "x= 1.0  and  dx= 0.1\n",
      "forward difference -0.8670618444256245\n"
     ]
    }
   ],
   "source": [
    "import numpy as np\n",
    "\n",
    "# definitions in Landau - see page 87\n",
    "# expanding T.S. error 'dx'\n",
    "# VERY IMPORTANT TO UNDERSTAND \n",
    "\n",
    "def derifw(y,x,dx):  #forward difference\n",
    "    return (y(x+dx)-y(x))/dx\n",
    "\n",
    "x=1.0 # point we're evaluating\n",
    "dx=0.1 # incrimentation \n",
    "print('x=',x,' and ', 'dx=', dx)\n",
    "print('forward difference',derifw(np.cos,x,dx))"
   ]
  },
  {
   "cell_type": "code",
   "execution_count": 38,
   "id": "7e315a0f",
   "metadata": {},
   "outputs": [
    {
     "name": "stdout",
     "output_type": "stream",
     "text": [
      "files saved\n"
     ]
    }
   ],
   "source": [
    "import numpy as np\n",
    "import matplotlib.pyplot as plt\n",
    "\n",
    "\n",
    "# how's the error change with increasing dx ?\n",
    "# forward difference\n",
    "\n",
    "\n",
    "# definitions in Landau - see page 87\n",
    "# expanding T.S. error 'dx'\n",
    "# VERY IMPORTANT TO UNDERSTAND \n",
    "\n",
    "def writeFile(name, n, fwd, cntl):\n",
    "    f = open(name, \"w\")\n",
    "    for i in range(len(n)):\n",
    "        f.write(str(n[i]))\n",
    "        f.write(\"\\t\")\n",
    "        f.write(str(fwd[i]))\n",
    "        f.write(\"\\t\")\n",
    "        f.write(str(cntl[i]))\n",
    "        f.write(\"\\t\")\n",
    "    f.close()\n",
    "    return\n",
    "\n",
    "\n",
    "#forward\n",
    "def derifw(y,x,dx):  #forward difference\n",
    "    return (y(x+dx)-y(x))/dx\n",
    "\n",
    "\n",
    "# central \n",
    "def dericd(y,x,dx): # central difference\n",
    "    return (y(x+dx/2)-y(x-dx/2))/dx\n",
    "\n",
    "# data \n",
    "\n",
    "x= np.pi/4\n",
    "dxarr=[]\n",
    "yarr_dericd=[]\n",
    "yarr_derifw=[]\n",
    "\n",
    "for dx in 10**np.arange(-16, 0.1,0.1): #input range\n",
    "    y=dericd(np.cos,x,dx) # actual funct\n",
    "#    print('dx %g,  y %g'%(dx,y))\n",
    "    dxarr.append(dx) # adds to dx array\n",
    "    yarr_dericd.append(y) # adds to dy array\n",
    "    y=derifw(np.cos,x,dx) # actual funct\n",
    "    yarr_derifw.append(y)\n",
    "    \n",
    "writeFile(\"HW3 data.txt\", dxarr, yarr_dericd, yarr_derifw)  \n",
    "\n",
    "#print(yarr_derifw)\n",
    "\n",
    "print('files saved as HW3 data')\n"
   ]
  },
  {
   "cell_type": "code",
   "execution_count": 39,
   "id": "c9be4c46",
   "metadata": {},
   "outputs": [
    {
     "data": {
      "image/png": "[encoded data removed]",
      "text/plain": [
       "<Figure size 432x288 with 1 Axes>"
      ]
     },
     "metadata": {
      "needs_background": "light"
     },
     "output_type": "display_data"
    },
    {
     "name": "stdout",
     "output_type": "stream",
     "text": [
      "n=0 and dx=10^15\n"
     ]
    }
   ],
   "source": [
    "import numpy as np\n",
    "import matplotlib.pyplot as plt\n",
    "\n",
    "#plt.plot(dxarr,abs(yarr_dericd-np.sin(np.pi/4)),'r-',lw=2,label='central')\n",
    "plt.plot(dxarr, abs(yarr_derifw-np.sin(np.pi/4)),'b-', lw=2, label='forward')     \n",
    "plt.xscale('log')\n",
    "plt.yscale('log')\n",
    "plt.xlabel('dx')\n",
    "plt.ylabel('Error')\n",
    "plt.grid(True)\n",
    "plt.legend(loc= 'upper right')\n",
    "plt.show()\n",
    "\n",
    "print('n=0 and dx=10^15')\n",
    "    "
   ]
  },
  {
   "cell_type": "code",
   "execution_count": 40,
   "id": "373042c4",
   "metadata": {},
   "outputs": [
    {
     "data": {
      "image/png": "[encoded data removed]",
      "text/plain": [
       "<Figure size 432x288 with 1 Axes>"
      ]
     },
     "metadata": {
      "needs_background": "light"
     },
     "output_type": "display_data"
    },
    {
     "name": "stdout",
     "output_type": "stream",
     "text": [
      "CD is better as the error is smaller by a factor of nearly 10\n"
     ]
    }
   ],
   "source": [
    "import numpy as np\n",
    "import matplotlib.pyplot as plt\n",
    "\n",
    "plt.plot(dxarr,abs(yarr_dericd-np.sin(np.pi/4)),'r-',lw=2,label='central')\n",
    "plt.plot(dxarr, abs(yarr_derifw-np.sin(np.pi/4)),'b-', lw=2, label='forward')     \n",
    "plt.xscale('log')\n",
    "plt.yscale('log')\n",
    "plt.xlabel('dx')\n",
    "plt.ylabel('Error')\n",
    "\n",
    "plt.yticks([0.5,1,2])\n",
    "plt.grid(True)\n",
    "plt.legend(loc= 'lower right')\n",
    "plt.show()\n",
    "\n",
    "print('CD is better as the error is smaller by a factor of nearly 10')"
   ]
  },
  {
   "cell_type": "code",
   "execution_count": null,
   "id": "0b752863",
   "metadata": {},
   "outputs": [],
   "source": [
    "import numpy as np\n",
    "import matplotlib.pyplot as plt\n",
    "\n",
    "\n",
    "# how's the error change with increasing dx \n",
    "# forward difference\n",
    "\n",
    "\n",
    "# definitions in Landau - see page 87\n",
    "# expanding T.S. error 'dx'\n",
    "# VERY IMPORTANT TO UNDERSTAND \n",
    "\n",
    "def writeFile(name, n, cntl):\n",
    "    f = open(name, \"w\")\n",
    "    for i in range(len(n)):\n",
    "        f.write(str(n[i]))\n",
    "        f.write(\"\\t\")\n",
    "        f.write(str(cntl[i]))\n",
    "        f.write(\"\\t\")\n",
    "    f.close()\n",
    "    return\n",
    "\n",
    "# central \n",
    "def dericd(y,x,dx): # central difference\n",
    "    return (y(x+dx/2)-y(x-dx/2))/dx\n",
    "\n",
    "# data \n",
    "\n",
    "x= 0.\n",
    "dxarr=[]\n",
    "yarr_dericd=[]\n",
    "\n",
    "for dx in 10**np.arange(-16, 0.1,0.1): #input range\n",
    "    y=dericd(np.cos,x,dx) # actual funct\n",
    "#    print('dx %g,  y %g'%(dx,y))\n",
    "    dxarr.append(dx) # adds to dx array\n",
    "    yarr_dericd.append(y) # adds to dy array\n",
    "\n",
    "    \n",
    "writeFile(\"HW3 prob 3 data.txt\", dxarr, yarr_dericd)  \n",
    "\n",
    "import numpy as np\n",
    "import matplotlib.pyplot as plt\n",
    "\n",
    "plt.plot(dxarr,yarr_dericd,'g-',lw=2,label='x=0')\n",
    "#plt.plot(dxarr,abs(yarr_dericd-np.sin(0.)),'r-',lw=2,label='central')\n",
    "plt.xscale('log')\n",
    "plt.yscale('linear')\n",
    "plt.xlabel('dx')\n",
    "plt.ylabel('Error')\n",
    "plt.grid(True)\n",
    "plt.legend(loc= 'lower right')\n",
    "plt.show()\n",
    "\n"
   ]
  },
  {
   "cell_type": "markdown",
   "id": "b15f8815",
   "metadata": {},
   "source": [
    "since we're using central difference theorem, we know from lect 4:\n",
    "$dy/dx= y'(x) + dx/24*y^{[3]}$ \n",
    "but here $ y = cos(x) \\rightarrow y' = sin(x)$ \n",
    "which means for x = 0 the derivative will always be 0"
   ]
  }
 ],
 "metadata": {
  "kernelspec": {
   "display_name": "Python 3",
   "language": "python",
   "name": "python3"
  },
  "language_info": {
   "codemirror_mode": {
    "name": "ipython",
    "version": 3
   },
   "file_extension": ".py",
   "mimetype": "text/x-python",
   "name": "python",
   "nbconvert_exporter": "python",
   "pygments_lexer": "ipython3",
   "version": "3.9.5"
  }
 },
 "nbformat": 4,
 "nbformat_minor": 5
}
