{
 "cells": [
  {
   "cell_type": "markdown",
   "metadata": {},
   "source": [
    "# midterm project\n",
    "\n",
    "1.\n",
    "\n",
    "Find all the real roots of\n",
    "\\begin{equation}\n",
    "0.1*x^3+x^2+x-3=0\n",
    "\\end{equation}\n",
    "using 1) bisection, and 2) Newton-Raphson methods."
   ]
  },
  {
   "cell_type": "code",
   "execution_count": 17,
   "metadata": {},
   "outputs": [
    {
     "data": {
      "image/png": "[encoded data removed]",
      "text/plain": [
       "<Figure size 432x288 with 1 Axes>"
      ]
     },
     "metadata": {
      "needs_background": "light"
     },
     "output_type": "display_data"
    },
    {
     "name": "stdout",
     "output_type": "stream",
     "text": [
      "with plot drawn we see the ballpark of the 3 roots locations\n",
      "recall the equation is f(x) = 0.1 * x**3 + x**2 + x -3 as defined above\n",
      "The first root is x = -8.379312664270401 after 26 iterations\n",
      "The second root is x = -2.868717484176159 after 26 iterations\n",
      "The third root is x = 1.248030150309205 after 28 iterations\n"
     ]
    }
   ],
   "source": [
    "# bisection method is described in Landau 7.90-7.91\n",
    "# before snything else we want to plot function to see where roots lie \n",
    "# this allows for setting bounds in the code \n",
    "\n",
    "import numpy as np # math \n",
    "import matplotlib.pylab as plt # plots\n",
    "\n",
    "# define function f(x) [ 0.1*x**3+...]\n",
    "\n",
    "def f(x):\n",
    "    return 0.1 * x**3 + x**2 + x -3\n",
    "\n",
    "#set-up plot parameters to show f(x) and its roots (eg: f(x) and g(x)=0)\n",
    "\n",
    "t = np.arange(-10,10,0.1) # range from -10 to 10 in incriments of 0.1\n",
    "s = f(t) # plugs range values into function above\n",
    "plt.plot(t,s) # plots defined function\n",
    "plt.xlim([-10,5]) # centering the plot where roots are \n",
    "plt.ylim([-5,5])# unbound graph goes to y = 200 very ugly \n",
    "s2 = np.zeros(len(t)) # plots set of 0 for range defined in t ie: just draws a horizontal line at x=0\n",
    "plt.plot(t,s2) # plots straight line \n",
    "plt.show()\n",
    "\n",
    "print(\"with plot drawn we see the ballpark of the 3 roots locations\") \n",
    "# since f(x) is cubic there should be 3 roots which this plot confirms\\\n",
    "\n",
    "#set-up basic parameters for bisection (eg: error quality and iterations)\n",
    "\n",
    "eps = 1e-8 # error set to 10**-8 and choice was decided from previous class discussions \n",
    "x_min = -10 # set minimum range to search for root\n",
    "x_max = -6 # set maximum range to search for root \n",
    "n_it  = 101 # maximum number of iterations \n",
    "\n",
    "print(\"recall the equation is f(x) = 0.1 * x**3 + x**2 + x -3 as defined above\")\n",
    "\n",
    "# now we are doing the meat of the question - bisection\n",
    "# printed entire iteration but it was a little cluttered\n",
    "# so it is hidden by'#''\n",
    "\n",
    "for i in range(0,n_it): # cycles from 0,100 iterations\n",
    "    X = 0.5*(x_max + x_min) # average bt 2 points\n",
    "    #print(\"  \",i,\"  \",X,\"  \",f(X)) # shows iterations values\n",
    "    if (f(x_max)*f(X)>0):\n",
    "        x_max = X\n",
    "    else:\n",
    "        x_min = X\n",
    "    if ( abs(f(X)) < eps):\n",
    "        break\n",
    "print(\"The first root is x =\", X, \"after\",i,\"iterations\")\n",
    "\n",
    "\n",
    "x_min2 = -4 # set minimum range to search for root\n",
    "x_max2 = -1 # set maximum range to search for root\n",
    "\n",
    "for i in range(0,n_it): # cycles from 0,100 iterations\n",
    "    X = 0.5*(x_max2 + x_min2) # average bt 2 points\n",
    "    #print(\"  \",i,\"  \",X,\"  \",f(X)) # shows iterations values\n",
    "    if (f(x_max2)*f(X)>0):\n",
    "        x_max2 = X\n",
    "    else:\n",
    "        x_min2 = X\n",
    "    if ( abs(f(X)) < eps):\n",
    "        break\n",
    "print(\"The second root is x =\", X, \"after\",i,\"iterations\")\n",
    "\n",
    "x_min3 = 0 # set minimum range to search for root\n",
    "x_max3 = 3 # set maximum range to search for root\n",
    "\n",
    "for i in range(0,n_it): # cycles from 0,100 iterations\n",
    "    X = 0.5*(x_max3 + x_min3) # average bt 2 points\n",
    "    #print(\"  \",i,\"  \",X,\"  \",f(X)) # shows iterations values\n",
    "    if (f(x_max3)*f(X)>0):\n",
    "        x_max3 = X\n",
    "    else:\n",
    "        x_min3 = X\n",
    "    if ( abs(f(X)) < eps):\n",
    "        break\n",
    "print(\"The third root is x =\", X, \"after\",i,\"iterations\")\n",
    "\n",
    "# I realize that I can make x_min,x_max numbers I could put into \n",
    "# the algorithm but manually doing it is better for me\n",
    "# to recognize what I'm doing but it is a bit ugly \n",
    "# so I am sorry about the clutter of it"
   ]
  },
  {
   "cell_type": "code",
   "execution_count": 43,
   "metadata": {},
   "outputs": [
    {
     "data": {
      "image/png": "[encoded data removed]",
      "text/plain": [
       "<Figure size 432x288 with 1 Axes>"
      ]
     },
     "metadata": {
      "needs_background": "light"
     },
     "output_type": "display_data"
    },
    {
     "name": "stdout",
     "output_type": "stream",
     "text": [
      "with plot drawn we see the ballpark of the 3 roots locations\n",
      "the 1  root is at 1.2480301518999641  after  5  iterations, with a precision of  3.2356339829675562e-12\n",
      "the 2  root is at -8.379312663410362  after  3  iterations, with a precision of  3.019806626980426e-14\n",
      "the 3  root is at -2.8687174902514747  after  2  iterations, with a precision of  3.998775088831508e-09\n"
     ]
    }
   ],
   "source": [
    "# next is Newton-Raphson which is \n",
    "# discussed in Landau ch 7\n",
    "# 2 NP methods: central (7.3.0) & backtracking (7.3.1)\n",
    "\n",
    "import numpy as np # math \n",
    "import matplotlib.pylab as plt # plots\n",
    "\n",
    "# define function f(x) [ 0.1*x**3+...]\n",
    "\n",
    "def f(x):\n",
    "    return 0.1 * x**3 + x**2 + x -3\n",
    "\n",
    "#set-up plot parameters to show f(x) and its roots (eg: f(x) and g(x)=0)\n",
    "\n",
    "t = np.arange(-10,10,0.1) # range from -10 to 10 in incriments of 0.1\n",
    "s = f(t) # plugs range values into function above\n",
    "plt.plot(t,s) # plots defined function\n",
    "plt.xlim([-10,5]) # centering the plot where roots are \n",
    "plt.ylim([-5,5])# unbound graph goes to y = 200 very ugly \n",
    "s2 = np.zeros(len(t)) # plots set of 0 for range defined in t ie: just draws a horizontal line at x=0\n",
    "plt.plot(t,s2) # plots straight line \n",
    "plt.show()\n",
    "\n",
    "print(\"with plot drawn we see the ballpark of the 3 roots locations\") \n",
    "\n",
    "#set-up basic parameters for bisection (eg: error quality and iterations) AFTER NR defind otherwise it'll get wonky\n",
    "\n",
    "\n",
    "# next define newton-raphson using layout from lect 5\n",
    "def newtonraphson(x0,dx, Nmax, eps,f): # parameters of function: x0 - zero point guess, dx - incrimental changes, rest defined earier\n",
    "    for i in range(0,Nmax): # iterations cycle\n",
    "        df =  (f(x0 + dx/2) - f(x0 - dx/2)) / dx # central difference theorem \n",
    "        x0 =  x0 - (f(x0) / df) # new zero point guess\n",
    "        if(abs(f(x0))<eps): # checks convergence of eqn 7.13\n",
    "            print(\"the\",n,\" root is at\",x0,\" after \",i,\" iterations, with a precision of \",abs(f(x0)))\n",
    "            break\n",
    "    return x0\n",
    "eps = 1.e-8 # same tolerance as before\n",
    "dx=1.e-6 # want small, see pg 146 Landau\n",
    "x01= 0 # guess from looking at plot\n",
    "nmax=101 # number of iterations\n",
    "n=1\n",
    "root = newtonraphson(x01, dx, nmax, eps, f)  #defines what the root is\n",
    "# pick next root which is exactly same process of copy pastining seen in bisection section above\n",
    "x02 = -8\n",
    "n=2\n",
    "root = newtonraphson(x02, dx, nmax, eps, f)  #defines what the root is\n",
    "# pick the final root\n",
    "x03 = -4\n",
    "n=3\n",
    "root = newtonraphson(x03, dx, nmax, eps, f)  #defines what the root is\n"
   ]
  },
  {
   "cell_type": "code",
   "execution_count": 50,
   "metadata": {},
   "outputs": [
    {
     "data": {
      "image/png": "[encoded data removed]",
      "text/plain": [
       "<Figure size 432x288 with 1 Axes>"
      ]
     },
     "metadata": {
      "needs_background": "light"
     },
     "output_type": "display_data"
    },
    {
     "name": "stdout",
     "output_type": "stream",
     "text": [
      "with plot drawn we see the ballpark of the 3 roots locations\n",
      "the 1  root is at -8.379312663410358  after  4  iterations, with a precision of  2.6645352591003757e-14\n",
      "the 1  root is at -2.8687174902514747  after  2  iterations, with a precision of  3.998775088831508e-09\n",
      "the 1  root is at 1.2480301518999641  after  4  iterations, with a precision of  3.2356339829675562e-12\n"
     ]
    }
   ],
   "source": [
    "# now we add the backtracking (see fig 7.3B)\n",
    "\n",
    "import numpy as np # math \n",
    "import matplotlib.pylab as plt # plots\n",
    "\n",
    "# define function f(x) [ 0.1*x**3+...]\n",
    "\n",
    "def f(x):\n",
    "    return 0.1 * x**3 + x**2 + x -3\n",
    "\n",
    "#set-up plot parameters to show f(x) and its roots (eg: f(x) and g(x)=0)\n",
    "\n",
    "t = np.arange(-10,10,0.1) # range from -10 to 10 in incriments of 0.1\n",
    "s = f(t) # plugs range values into function above\n",
    "plt.plot(t,s) # plots defined function\n",
    "plt.xlim([-10,5]) # centering the plot where roots are \n",
    "plt.ylim([-5,5])# unbound graph goes to y = 200 very ugly \n",
    "s2 = np.zeros(len(t)) # plots set of 0 for range defined in t ie: just draws a horizontal line at x=0\n",
    "plt.plot(t,s2) # plots straight line \n",
    "plt.show()\n",
    "\n",
    "print(\"with plot drawn we see the ballpark of the 3 roots locations\") \n",
    "\n",
    "# next define newton-raphson backtracking using layout from lect 5\n",
    "def NRbacktrack(x0,dx,Nmax,eps,f):\n",
    "    for i in  range(0,Nmax):\n",
    "        df = (f(x0+dx/2) - f(x0-dx/2))/dx\n",
    "        dxt = -f(x0)/df\n",
    "        while (abs(f(x0+dxt))>abs(f(x0))):\n",
    "            dxt = dxt/2 # backtraxking to smaller guess\n",
    "        \n",
    "        if(abs(f(x0))<eps):\n",
    "            print(\"the\",n,\"root is at\",x0,\"after\",i,\"iterations, with a percision of\",eps)\n",
    "    return x0\n",
    "\n",
    "# pick the first root\n",
    "x04 = -10\n",
    "n=1\n",
    "root = newtonraphson(x04, dx, nmax, eps, f)  #defines what the root is\n",
    "# pick the second root\n",
    "x05 = -4\n",
    "n=1\n",
    "root = newtonraphson(x05, dx, nmax, eps, f)  #defines what the root is\n",
    "# pick the third root\n",
    "x06 = 3\n",
    "n=1\n",
    "root = newtonraphson(x06, dx, nmax, eps, f)  #defines what the root is\n"
   ]
  },
  {
   "cell_type": "markdown",
   "metadata": {},
   "source": [
    "2\n",
    "\n",
    "a) Please use forward Euler and Central difference methods to calculate\n",
    "\\begin{equation}\n",
    "\\frac{d ln(x)}{dx}\n",
    "\\end{equation}\n",
    "at x=10, using a step size of 0.01.\n",
    "\n",
    "b) Please compare your results with the analytical solution at x=10. What is the relative error of each method?\n",
    "\n",
    "c) Please use any numerical method to calculate\n",
    "\\begin{equation}\n",
    "\\frac{d^2 ln(x)}{dx^2}\n",
    "\\end{equation}\n",
    "at x=10, using a step size of 0.01."
   ]
  },
  {
   "cell_type": "code",
   "execution_count": 5,
   "metadata": {},
   "outputs": [
    {
     "name": "stdout",
     "output_type": "stream",
     "text": [
      "y(x)= 2.302585092994046\n"
     ]
    }
   ],
   "source": [
    "# euler forward method is\n",
    "# dy/dt = (y(x+1) - y(x))/h ; dy/dt = f\n",
    "# y(x+1) = y(x) + h*f(t,y)\n",
    "# create tangent at x with slope dy/dx\n",
    "# h is step size\n",
    "\n",
    "import numpy as np\n",
    "import matplotlib.pylab as plt\n",
    "\n",
    "# start with defining function and parameters\n",
    "\n",
    "x = 10\n",
    "\n",
    "def y(x):\n",
    "    return np.log(x) #natural log\n",
    "\n",
    "print(\"y(x)=\",y(x))"
   ]
  },
  {
   "cell_type": "markdown",
   "metadata": {},
   "source": [
    "3.\n",
    "Please use the RK4 method to solve\n",
    "\\begin{equation}\n",
    "\\frac{d^2y}{dx^2}+y*\\frac{dy}{dx}+3*y=sin(x)\n",
    "\\end{equation}\n",
    "with the initial condition y(x=0)=-1, y'(x=0)=1."
   ]
  },
  {
   "cell_type": "code",
   "execution_count": 8,
   "metadata": {},
   "outputs": [
    {
     "data": {
      "image/png": "[encoded data removed]",
      "text/plain": [
       "<Figure size 432x288 with 1 Axes>"
      ]
     },
     "metadata": {
      "needs_background": "light"
     },
     "output_type": "display_data"
    }
   ],
   "source": [
    "# solving ODE using \n",
    "# 4th order runge-kuta method (eg incrimental corrections)\n",
    "\n",
    "import numpy as np\n",
    "import matplotlib.pyplot as plt\n",
    "\n",
    "# y'' + y*y' + 3*y = sin(x)\n",
    "# y(0) = -1 \n",
    "# y'(0) = 1\n",
    "\n",
    "# rewrite as \n",
    "# y'' = - y*y' -3*y + sin(x)\n",
    "\n",
    "# rk4 form from lect 7-2\n",
    "# question has x as variable but code uses t\n",
    "\n",
    "h=0.1 # step size\n",
    "y=[0.,1.] # initial parameters\n",
    "t=0 # start\n",
    "tend=20 # end\n",
    "\n",
    "def f(t, y):\n",
    "    f=np.zeros(2)\n",
    "    f[0]=y[1] # this is y'(x)\n",
    "    f[1]=-y[0]*y[1]-3*y[0]+np.sin(t)\n",
    "    return f\n",
    "    \n",
    "def rk4(t, h, y, n):\n",
    "    k1 = np.zeros(n)\n",
    "    k2 = np.zeros(n)\n",
    "    k3 = np.zeros(n)\n",
    "    k4 = np.zeros(n)\n",
    "    k1=h*f(t,y)\n",
    "    k2=h*f(t+0.5*h,y+0.5*k1)\n",
    "    k3=h*f(t+0.5*h,y+0.5*k2)\n",
    "    k4=h*f(t+h,y+k3)\n",
    "    y+=1./6.*(k1+2*k2+2*k3+k4)\n",
    "    return y\n",
    "\n",
    "tp=[]\n",
    "y0p=[]\n",
    "\n",
    "while(t<tend):\n",
    "    if((t+h)>tend):\n",
    "        h=tend-t\n",
    "    y = rk4(t,h,y,2)\n",
    "    y0p=np.append(y0p,y[0])\n",
    "    t = t+h\n",
    "    tp=np.append(tp,t)\n",
    "\n",
    "plt.plot(tp,y0p)\n",
    "plt.show()\n",
    "\n"
   ]
  },
  {
   "cell_type": "code",
   "execution_count": null,
   "metadata": {},
   "outputs": [],
   "source": []
  }
 ],
 "metadata": {
  "kernelspec": {
   "display_name": "Python 3",
   "language": "python",
   "name": "python3"
  },
  "language_info": {
   "codemirror_mode": {
    "name": "ipython",
    "version": 3
   },
   "file_extension": ".py",
   "mimetype": "text/x-python",
   "name": "python",
   "nbconvert_exporter": "python",
   "pygments_lexer": "ipython3",
   "version": "3.9.5"
  }
 },
 "nbformat": 4,
 "nbformat_minor": 2
}
