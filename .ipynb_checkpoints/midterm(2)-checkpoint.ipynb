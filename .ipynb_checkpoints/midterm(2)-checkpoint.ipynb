{
 "cells": [
  {
   "cell_type": "markdown",
   "metadata": {},
   "source": [
    "# midterm project\n",
    "\n",
    "1.\n",
    "\n",
    "Find all the real roots of\n",
    "\\begin{equation}\n",
    "0.1*x^3+x^2+x-3=0\n",
    "\\end{equation}\n",
    "using 1) bisection, and 2) Newton-Raphson methods."
   ]
  },
  {
   "cell_type": "code",
   "execution_count": null,
   "metadata": {},
   "outputs": [],
   "source": []
  },
  {
   "cell_type": "markdown",
   "metadata": {},
   "source": [
    "2\n",
    "\n",
    "a) Please use forward Euler and Central difference methods to calculate\n",
    "\\begin{equation}\n",
    "\\frac{d ln(x)}{dx}\n",
    "\\end{equation}\n",
    "at x=10, using a step size of 0.01.\n",
    "\n",
    "b) Please compare your results with the analytical solution at x=10. What is the relative error of each method?\n",
    "\n",
    "c) Please use any numerical method to calculate\n",
    "\\begin{equation}\n",
    "\\frac{d^2 ln(x)}{dx^2}\n",
    "\\end{equation}\n",
    "at x=10, using a step size of 0.01."
   ]
  },
  {
   "cell_type": "code",
   "execution_count": null,
   "metadata": {},
   "outputs": [],
   "source": []
  },
  {
   "cell_type": "markdown",
   "metadata": {},
   "source": [
    "3.\n",
    "Please use the RK4 method to solve\n",
    "\\begin{equation}\n",
    "\\frac{d^2y}{dx^2}+y*\\frac{dy}{dx}+3*y=sin(x)\n",
    "\\end{equation}\n",
    "with the initial condition y(x=0)=-1, y'(x=0)=1."
   ]
  },
  {
   "cell_type": "code",
   "execution_count": null,
   "metadata": {},
   "outputs": [],
   "source": []
  }
 ],
 "metadata": {
  "kernelspec": {
   "display_name": "Python 3",
   "language": "python",
   "name": "python3"
  },
  "language_info": {
   "codemirror_mode": {
    "name": "ipython",
    "version": 3
   },
   "file_extension": ".py",
   "mimetype": "text/x-python",
   "name": "python",
   "nbconvert_exporter": "python",
   "pygments_lexer": "ipython3",
   "version": "3.9.5"
  }
 },
 "nbformat": 4,
 "nbformat_minor": 2
}
