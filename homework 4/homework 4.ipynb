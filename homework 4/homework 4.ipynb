{
 "cells": [
  {
   "cell_type": "code",
   "execution_count": null,
   "id": "e4167098",
   "metadata": {},
   "outputs": [],
   "source": [
    "# Homework: using Newton-Raphson method to solve above equation arrays\n",
    "# Hint: first you need to derive the partical derivative of the equation arrays. You can do it either \n",
    "# analytically by hand or numerically using method we learned in the last lecture."
   ]
  },
  {
   "cell_type": "code",
   "execution_count": 86,
   "id": "0cf5d86c",
   "metadata": {},
   "outputs": [],
   "source": [
    "import matplotlib.pyplot as plt\n",
    "import numpy as np\n",
    "\n",
    "# f1 = x^2 + xy -10\n",
    "# f2 = y + 3xy^2-57 \n",
    "# fx == df/dx\n",
    "\n",
    "# def f1(x1,x2):\n",
    "  #  return (x1*x1+x1*x2-10.)\n",
    "\n",
    "#def f2(x1,x2):\n",
    " #   return (x2+3*x1*x2*x2-57)\n",
    "\n",
    "# no idea how i can plot this with x1,x2 indep. \n",
    "# solve for y for both funct & plot y vs x "
   ]
  },
  {
   "cell_type": "code",
   "execution_count": 87,
   "id": "a7fdd294",
   "metadata": {},
   "outputs": [
    {
     "data": {
      "image/png": "[encoded data removed]",
      "text/plain": [
       "<Figure size 432x288 with 1 Axes>"
      ]
     },
     "metadata": {
      "needs_background": "light"
     },
     "output_type": "display_data"
    }
   ],
   "source": [
    "def funct1(x):\n",
    "    return((10-x*x) /x)\n",
    "\n",
    "def funct2(x): #quad eq for 'y'\n",
    "    return ((-1+np.sqrt(1 + 4*3*x*57))/(6*x))\n",
    "    \n",
    "x_ar = np.arange(1,3,0.1) #divg. at x=0\n",
    "y_ar1 = funct1(x_ar)\n",
    "\n",
    "plt.plot(x_ar,y_ar1)\n",
    "\n",
    "# notice x2 is HUGE so make axis smaller \n",
    "\n",
    "plt.ylim(0,5)\n",
    "\n",
    "y_ar2 = funct2(x_ar)\n",
    "plt.plot(x_ar,y_ar2)\n",
    "\n",
    "\n",
    "plt.xlabel(\"x1 value\")\n",
    "plt.ylabel(\"x2 value\")\n",
    "plt.legend([\"funct 1\",\"funct 2\"])\n",
    "\n",
    "\n",
    "plt.show()"
   ]
  },
  {
   "cell_type": "code",
   "execution_count": 3,
   "id": "152a813a",
   "metadata": {},
   "outputs": [
    {
     "name": "stdout",
     "output_type": "stream",
     "text": [
      "current guess for x1 =  2 and for x2 =  3.5\n"
     ]
    }
   ],
   "source": [
    "import matplotlib.pyplot as plt\n",
    "import numpy as np\n",
    "import math\n",
    "\n",
    "# f1 = x^2 + xy -10\n",
    "# f2 = y + 3xy^2-57 \n",
    "# fx == df/dx\n",
    "# x == x1 , y == x2 for clarity \n",
    "\n",
    "num1 = 10\n",
    "num2 = 57\n",
    "def f1(x1,x2):\n",
    "    fun1 = x1*x1 + x1*x2 - num1\n",
    "    return (fun1)\n",
    "\n",
    "def f2(x1,x2):\n",
    "    fun2 = x2 + 3*x1*x2 - num2\n",
    "    return (fun2)\n",
    "\n",
    "\n",
    "def f1x1(x1,x2): # df1/dx = 2x+y\n",
    "    return(2*x1+x2)\n",
    "\n",
    "def f1x2(x1,x2): #df1/dy = x\n",
    "    return(x1)\n",
    "    \n",
    "def f2x1(x1,x2): #df2/dx = 3y^2\n",
    "    return(3*x2*x2)\n",
    "    \n",
    "def f2x2(x1,x2): #df2/dy = 6xy\n",
    "    return(6*x1*x2)\n",
    "    \n",
    "# for below assignment see lect5 matrix of NR method abcd\n",
    "    \n",
    "def dx1(f1,f2,f1x1,f1x2,f2x1,f2x2,x1,x2): \n",
    "\n",
    "    a = f1x1(x1,x2) # df1/dx = a\n",
    "    b = f1x2(x1,x2) # df1/dy = b\n",
    "    c = f2x1(x1,x2) # df2/dx = c\n",
    "    d = f2x2(x1,x2) # df2/dy = d\n",
    "    bf2 = b * f2(x1,x2)\n",
    "    df1 = d * f1(x1,x2)\n",
    "    func1 = (bf2-df1)/(a*d - b*c)\n",
    "    return(func1)\n",
    "    \n",
    "\n",
    "def dx2(f1,f2,f1x1,f1x2,f2x1,f2x2,x1,x2):\n",
    "\n",
    "    a = f1x1(x1,x2) # df1/dx = a\n",
    "    b = f1x2(x1,x2) # df1/dy = b\n",
    "    c = f2x1(x1,x2) # df2/dx = c\n",
    "    d = f2x2(x1,x2) # df2/dy = d\n",
    "    af2 = a * f2(x1,x2)\n",
    "    cf1 = c * f1(x1,x2)\n",
    "    func2 = (cf1-af2)/(a*d - b*c)\n",
    "    return(func2)\n",
    "\n",
    "\n",
    "\n",
    "#initial guess just use above figure \n",
    "eps = 1.e-8 #same as lect5\n",
    "x1= 2\n",
    "x2= 3.5\n",
    "Nmax = 100\n",
    "print(\"current guess for x1 = \",x1,\"and for x2 = \",x2)\n",
    "\n",
    "    \n",
    "# keep getting type error for '*' from here down \n",
    "# issue was something related to (f1,f2...) there\n",
    "# was an error over \"unsupported operand for * func & func\"\n",
    "# corrected by just copying directly from def above\n",
    "\n",
    "\n",
    "# same loop as in lect5 !!! we are looking for best num\n",
    "\n",
    "for i in range(0,Nmax): \n",
    "    x1=x1+dx1(f1,f2,f1x1,f1x2,f2x1,f2x2,x1,x2)\n",
    "    x2=x2+dx2(f1,f2,f1x1,f1x2,f2x1,f2x2,x1,x2)\n",
    "    if f1(x1,x2))<eps and f2(x1,x2)<eps:\n",
    "        print(\"root is at x1=\",x1, \"and x2=\", x2, \"after \", i , \"iterations\")\n",
    "        break\n",
    "        \n",
    "# if i put abs(f1...) in loop the loop will not run"
   ]
  },
  {
   "cell_type": "code",
   "execution_count": null,
   "id": "3397aa30",
   "metadata": {},
   "outputs": [],
   "source": []
  },
  {
   "cell_type": "code",
   "execution_count": null,
   "id": "4ddfc128",
   "metadata": {},
   "outputs": [],
   "source": []
  }
 ],
 "metadata": {
  "kernelspec": {
   "display_name": "Python 3",
   "language": "python",
   "name": "python3"
  },
  "language_info": {
   "codemirror_mode": {
    "name": "ipython",
    "version": 3
   },
   "file_extension": ".py",
   "mimetype": "text/x-python",
   "name": "python",
   "nbconvert_exporter": "python",
   "pygments_lexer": "ipython3",
   "version": "3.9.5"
  }
 },
 "nbformat": 4,
 "nbformat_minor": 5
}
